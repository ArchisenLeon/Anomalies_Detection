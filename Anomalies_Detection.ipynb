{
  "nbformat": 4,
  "nbformat_minor": 0,
  "metadata": {
    "kernelspec": {
      "display_name": "Python 3",
      "language": "python",
      "name": "python3"
    },
    "language_info": {
      "codemirror_mode": {
        "name": "ipython",
        "version": 3
      },
      "file_extension": ".py",
      "mimetype": "text/x-python",
      "name": "python",
      "nbconvert_exporter": "python",
      "pygments_lexer": "ipython3",
      "version": "3.6.10"
    },
    "colab": {
      "name": "Anomalies_Detection.ipynb",
      "provenance": [],
      "toc_visible": true,
      "include_colab_link": true
    },
    "accelerator": "GPU"
  },
  "cells": [
    {
      "cell_type": "markdown",
      "metadata": {
        "id": "view-in-github",
        "colab_type": "text"
      },
      "source": [
        "<a href=\"https://colab.research.google.com/github/FreelancerFel/Anomalies_Detection/blob/master/Anomalies_Detection.ipynb\" target=\"_parent\"><img src=\"https://colab.research.google.com/assets/colab-badge.svg\" alt=\"Open In Colab\"/></a>"
      ]
    },
    {
      "cell_type": "markdown",
      "metadata": {
        "id": "-gCPY0Wsij36"
      },
      "source": [
        "# Understanding Anomalies in Time-Series - Is something going on?"
      ]
    },
    {
      "cell_type": "code",
      "metadata": {
        "id": "SkwcEmETjTtr",
        "outputId": "4f3face0-3ee5-401d-dec9-23881d3b2cc1",
        "colab": {
          "base_uri": "https://localhost:8080/"
        }
      },
      "source": [
        "!pip install burst_detection\n",
        "!pip install torch\n",
        "!pip install torchvision\n",
        "!apt-get install subversion\n",
        "!svn export https://github.com/FreelancerFel/Anomalies_Detection/trunk/datasets\n",
        "\n",
        "# Source for burst_detection\n",
        "# https://github.com/nmarinsek/burst_detection\n",
        "# Source for Numenta Anomaly Benchmark\n",
        "# https://github.com/numenta/NAB"
      ],
      "execution_count": 33,
      "outputs": [
        {
          "output_type": "stream",
          "text": [
            "Requirement already satisfied: burst_detection in /usr/local/lib/python3.6/dist-packages (0.1.3)\n",
            "Requirement already satisfied: numpy in /usr/local/lib/python3.6/dist-packages (from burst_detection) (1.18.5)\n",
            "Requirement already satisfied: mpmath in /usr/local/lib/python3.6/dist-packages (from burst_detection) (1.1.0)\n",
            "Requirement already satisfied: pandas in /usr/local/lib/python3.6/dist-packages (from burst_detection) (1.1.4)\n",
            "Requirement already satisfied: python-dateutil>=2.7.3 in /usr/local/lib/python3.6/dist-packages (from pandas->burst_detection) (2.8.1)\n",
            "Requirement already satisfied: pytz>=2017.2 in /usr/local/lib/python3.6/dist-packages (from pandas->burst_detection) (2018.9)\n",
            "Requirement already satisfied: six>=1.5 in /usr/local/lib/python3.6/dist-packages (from python-dateutil>=2.7.3->pandas->burst_detection) (1.15.0)\n",
            "Requirement already satisfied: torch in /usr/local/lib/python3.6/dist-packages (1.7.0+cu101)\n",
            "Requirement already satisfied: dataclasses in /usr/local/lib/python3.6/dist-packages (from torch) (0.7)\n",
            "Requirement already satisfied: future in /usr/local/lib/python3.6/dist-packages (from torch) (0.16.0)\n",
            "Requirement already satisfied: numpy in /usr/local/lib/python3.6/dist-packages (from torch) (1.18.5)\n",
            "Requirement already satisfied: typing-extensions in /usr/local/lib/python3.6/dist-packages (from torch) (3.7.4.3)\n",
            "Requirement already satisfied: torchvision in /usr/local/lib/python3.6/dist-packages (0.8.1+cu101)\n",
            "Requirement already satisfied: pillow>=4.1.1 in /usr/local/lib/python3.6/dist-packages (from torchvision) (7.0.0)\n",
            "Requirement already satisfied: torch==1.7.0 in /usr/local/lib/python3.6/dist-packages (from torchvision) (1.7.0+cu101)\n",
            "Requirement already satisfied: numpy in /usr/local/lib/python3.6/dist-packages (from torchvision) (1.18.5)\n",
            "Requirement already satisfied: typing-extensions in /usr/local/lib/python3.6/dist-packages (from torch==1.7.0->torchvision) (3.7.4.3)\n",
            "Requirement already satisfied: future in /usr/local/lib/python3.6/dist-packages (from torch==1.7.0->torchvision) (0.16.0)\n",
            "Requirement already satisfied: dataclasses in /usr/local/lib/python3.6/dist-packages (from torch==1.7.0->torchvision) (0.7)\n",
            "Reading package lists... Done\n",
            "Building dependency tree       \n",
            "Reading state information... Done\n",
            "subversion is already the newest version (1.9.7-4ubuntu1).\n",
            "0 upgraded, 0 newly installed, 0 to remove and 11 not upgraded.\n",
            "svn: E155000: Destination directory exists; please remove the directory or use --force to overwrite\n",
            "svn: E155000: 'datasets' already exists\n"
          ],
          "name": "stdout"
        }
      ]
    },
    {
      "cell_type": "markdown",
      "metadata": {
        "id": "7BX-K0zdij37"
      },
      "source": [
        "## Objective\n",
        "\n",
        "* Understand anomalies in time-series\n",
        "* Ability to implement anomalies detection using forecasting with ARIMA, Kleinburg's Algorithm for Burst Detection, and Pytorch implementation of Autoencoder."
      ]
    },
    {
      "cell_type": "code",
      "metadata": {
        "id": "yv7wLhbVij38"
      },
      "source": [
        "import warnings\n",
        "warnings.filterwarnings('ignore')"
      ],
      "execution_count": 34,
      "outputs": []
    },
    {
      "cell_type": "code",
      "metadata": {
        "id": "Wfdw1TD_ij4C",
        "outputId": "bba67952-39d5-4c24-bf7f-63a845b4f856",
        "colab": {
          "base_uri": "https://localhost:8080/"
        }
      },
      "source": [
        "# load packages\n",
        "\n",
        "import pandas as pd\n",
        "import numpy as np\n",
        "%pylab inline \n",
        "### Dataset to play with?\n",
        "from itertools import accumulate\n",
        "from plotnine import *\n",
        "import burst_detection as bd\n",
        "\n",
        "from sklearn import preprocessing\n",
        "\n",
        "import math\n",
        "import statsmodels.api as sm\n",
        "import statsmodels.tsa.api as smt\n",
        "from sklearn.metrics import mean_squared_error\n",
        "from matplotlib import pyplot\n",
        "import matplotlib.pyplot as plt"
      ],
      "execution_count": 36,
      "outputs": [
        {
          "output_type": "stream",
          "text": [
            "Populating the interactive namespace from numpy and matplotlib\n"
          ],
          "name": "stdout"
        }
      ]
    },
    {
      "cell_type": "markdown",
      "metadata": {
        "id": "kheMlFWaij4F"
      },
      "source": [
        "## Data"
      ]
    },
    {
      "cell_type": "markdown",
      "metadata": {
        "id": "zTRUaCVhij4H"
      },
      "source": [
        "We use twitter data from the Numenta Anomaly Benchmark (NAB) v1.1. NAB is a novel benchmark for evaluating algorithms for anomaly detection in streaming, real-time applications. The twitter data contain number of tweets related to ten company ranging from Apple, Amazon to Google between the period of Feb 2015 to April 2015"
      ]
    },
    {
      "cell_type": "code",
      "metadata": {
        "id": "PhEa28bNij4I",
        "outputId": "95f2bbba-78fc-41ec-a394-82e5338b1e73",
        "colab": {
          "base_uri": "https://localhost:8080/",
          "height": 402
        }
      },
      "source": [
        "### Load All twitter data, identify where is the 'unusual traffic'\n",
        "tweets = ['AAPL','AMZN','CRM','CVS','FB','GOOG','IBM','KO','PFE','UPS']\n",
        "df = pd.read_csv('./datasets/Twitter_volume_AAPL.csv', parse_dates=True)\n",
        "df['key'] = 'AAPL'\n",
        "for i in tweets[1:]:\n",
        "    filename = './datasets/Twitter_volume_'+str(i)+'.csv'\n",
        "    file = pd.read_csv(filename, parse_dates=True)\n",
        "    file['key'] = i\n",
        "    df = pd.concat([df,file], sort=False)\n",
        "df"
      ],
      "execution_count": 5,
      "outputs": [
        {
          "output_type": "execute_result",
          "data": {
            "text/html": [
              "<div>\n",
              "<style scoped>\n",
              "    .dataframe tbody tr th:only-of-type {\n",
              "        vertical-align: middle;\n",
              "    }\n",
              "\n",
              "    .dataframe tbody tr th {\n",
              "        vertical-align: top;\n",
              "    }\n",
              "\n",
              "    .dataframe thead th {\n",
              "        text-align: right;\n",
              "    }\n",
              "</style>\n",
              "<table border=\"1\" class=\"dataframe\">\n",
              "  <thead>\n",
              "    <tr style=\"text-align: right;\">\n",
              "      <th></th>\n",
              "      <th>timestamp</th>\n",
              "      <th>value</th>\n",
              "      <th>key</th>\n",
              "    </tr>\n",
              "  </thead>\n",
              "  <tbody>\n",
              "    <tr>\n",
              "      <th>0</th>\n",
              "      <td>2015-02-26 21:42:53</td>\n",
              "      <td>104</td>\n",
              "      <td>AAPL</td>\n",
              "    </tr>\n",
              "    <tr>\n",
              "      <th>1</th>\n",
              "      <td>2015-02-26 21:47:53</td>\n",
              "      <td>100</td>\n",
              "      <td>AAPL</td>\n",
              "    </tr>\n",
              "    <tr>\n",
              "      <th>2</th>\n",
              "      <td>2015-02-26 21:52:53</td>\n",
              "      <td>99</td>\n",
              "      <td>AAPL</td>\n",
              "    </tr>\n",
              "    <tr>\n",
              "      <th>3</th>\n",
              "      <td>2015-02-26 21:57:53</td>\n",
              "      <td>154</td>\n",
              "      <td>AAPL</td>\n",
              "    </tr>\n",
              "    <tr>\n",
              "      <th>4</th>\n",
              "      <td>2015-02-26 22:02:53</td>\n",
              "      <td>120</td>\n",
              "      <td>AAPL</td>\n",
              "    </tr>\n",
              "    <tr>\n",
              "      <th>...</th>\n",
              "      <td>...</td>\n",
              "      <td>...</td>\n",
              "      <td>...</td>\n",
              "    </tr>\n",
              "    <tr>\n",
              "      <th>15861</th>\n",
              "      <td>2015-04-22 23:27:53</td>\n",
              "      <td>3</td>\n",
              "      <td>UPS</td>\n",
              "    </tr>\n",
              "    <tr>\n",
              "      <th>15862</th>\n",
              "      <td>2015-04-22 23:32:53</td>\n",
              "      <td>2</td>\n",
              "      <td>UPS</td>\n",
              "    </tr>\n",
              "    <tr>\n",
              "      <th>15863</th>\n",
              "      <td>2015-04-22 23:37:53</td>\n",
              "      <td>2</td>\n",
              "      <td>UPS</td>\n",
              "    </tr>\n",
              "    <tr>\n",
              "      <th>15864</th>\n",
              "      <td>2015-04-22 23:42:53</td>\n",
              "      <td>3</td>\n",
              "      <td>UPS</td>\n",
              "    </tr>\n",
              "    <tr>\n",
              "      <th>15865</th>\n",
              "      <td>2015-04-22 23:47:53</td>\n",
              "      <td>3</td>\n",
              "      <td>UPS</td>\n",
              "    </tr>\n",
              "  </tbody>\n",
              "</table>\n",
              "<p>158631 rows × 3 columns</p>\n",
              "</div>"
            ],
            "text/plain": [
              "                 timestamp  value   key\n",
              "0      2015-02-26 21:42:53    104  AAPL\n",
              "1      2015-02-26 21:47:53    100  AAPL\n",
              "2      2015-02-26 21:52:53     99  AAPL\n",
              "3      2015-02-26 21:57:53    154  AAPL\n",
              "4      2015-02-26 22:02:53    120  AAPL\n",
              "...                    ...    ...   ...\n",
              "15861  2015-04-22 23:27:53      3   UPS\n",
              "15862  2015-04-22 23:32:53      2   UPS\n",
              "15863  2015-04-22 23:37:53      2   UPS\n",
              "15864  2015-04-22 23:42:53      3   UPS\n",
              "15865  2015-04-22 23:47:53      3   UPS\n",
              "\n",
              "[158631 rows x 3 columns]"
            ]
          },
          "metadata": {
            "tags": []
          },
          "execution_count": 5
        }
      ]
    },
    {
      "cell_type": "markdown",
      "metadata": {
        "id": "U68SZ0TRij4L"
      },
      "source": [
        "The dataset is collected every five minutes, but we are not interested in that small of an inteval for time period so it is sum at hour level.\n",
        "\n",
        "Additionally, we also create a column for aggregate tweets for that company up until that moment and total number of tweets (for all 10 companies) for that hours. The reasoning for the total is to create a 'normal' behaviour for benchmarking"
      ]
    },
    {
      "cell_type": "code",
      "metadata": {
        "id": "yom39wfTij4L"
      },
      "source": [
        "df['timestamp'] =  pd.to_datetime(df['timestamp'], format='%Y-%m-%d %H:%M:%S')\n",
        "df['timestamp'] = df['timestamp'].apply(lambda dt: datetime.datetime(dt.year, dt.month, dt.day, dt.hour,dt.minute//60))\n",
        "df_alt = df.groupby(['timestamp'])['value'].agg('sum').reset_index(inplace = False)\n",
        "df = df.groupby(['timestamp','key'])['value'].agg('sum').reset_index(inplace = False)\n",
        "df = df.sort_values(by=['key','timestamp'])\n",
        "original = []\n",
        "for i in tweets:\n",
        "    output = [*accumulate(list(df[df['key']==i]['value']), lambda a, b: a+b)]\n",
        "    original= original + output\n",
        "df['aggregate'] = original\n",
        "df = df[df['value']!=0]\n",
        "df = df.merge(df_alt, on=['timestamp'], how='left')\n",
        "df.columns = ['timestamp','key','value','aggregate','total']"
      ],
      "execution_count": 6,
      "outputs": []
    },
    {
      "cell_type": "code",
      "metadata": {
        "id": "gEjmDqyKij4O",
        "outputId": "fc7a1a76-29df-45a7-f098-e358d8894657",
        "colab": {
          "base_uri": "https://localhost:8080/",
          "height": 639
        }
      },
      "source": [
        "df.head(n=20)"
      ],
      "execution_count": 7,
      "outputs": [
        {
          "output_type": "execute_result",
          "data": {
            "text/html": [
              "<div>\n",
              "<style scoped>\n",
              "    .dataframe tbody tr th:only-of-type {\n",
              "        vertical-align: middle;\n",
              "    }\n",
              "\n",
              "    .dataframe tbody tr th {\n",
              "        vertical-align: top;\n",
              "    }\n",
              "\n",
              "    .dataframe thead th {\n",
              "        text-align: right;\n",
              "    }\n",
              "</style>\n",
              "<table border=\"1\" class=\"dataframe\">\n",
              "  <thead>\n",
              "    <tr style=\"text-align: right;\">\n",
              "      <th></th>\n",
              "      <th>timestamp</th>\n",
              "      <th>key</th>\n",
              "      <th>value</th>\n",
              "      <th>aggregate</th>\n",
              "      <th>total</th>\n",
              "    </tr>\n",
              "  </thead>\n",
              "  <tbody>\n",
              "    <tr>\n",
              "      <th>0</th>\n",
              "      <td>2015-02-26 21:00:00</td>\n",
              "      <td>AAPL</td>\n",
              "      <td>457</td>\n",
              "      <td>457</td>\n",
              "      <td>1181</td>\n",
              "    </tr>\n",
              "    <tr>\n",
              "      <th>1</th>\n",
              "      <td>2015-02-26 22:00:00</td>\n",
              "      <td>AAPL</td>\n",
              "      <td>1906</td>\n",
              "      <td>2363</td>\n",
              "      <td>3961</td>\n",
              "    </tr>\n",
              "    <tr>\n",
              "      <th>2</th>\n",
              "      <td>2015-02-26 23:00:00</td>\n",
              "      <td>AAPL</td>\n",
              "      <td>973</td>\n",
              "      <td>3336</td>\n",
              "      <td>2520</td>\n",
              "    </tr>\n",
              "    <tr>\n",
              "      <th>3</th>\n",
              "      <td>2015-02-27 00:00:00</td>\n",
              "      <td>AAPL</td>\n",
              "      <td>707</td>\n",
              "      <td>4043</td>\n",
              "      <td>2275</td>\n",
              "    </tr>\n",
              "    <tr>\n",
              "      <th>4</th>\n",
              "      <td>2015-02-27 01:00:00</td>\n",
              "      <td>AAPL</td>\n",
              "      <td>527</td>\n",
              "      <td>4570</td>\n",
              "      <td>1977</td>\n",
              "    </tr>\n",
              "    <tr>\n",
              "      <th>5</th>\n",
              "      <td>2015-02-27 02:00:00</td>\n",
              "      <td>AAPL</td>\n",
              "      <td>782</td>\n",
              "      <td>5352</td>\n",
              "      <td>2752</td>\n",
              "    </tr>\n",
              "    <tr>\n",
              "      <th>6</th>\n",
              "      <td>2015-02-27 03:00:00</td>\n",
              "      <td>AAPL</td>\n",
              "      <td>678</td>\n",
              "      <td>6030</td>\n",
              "      <td>3311</td>\n",
              "    </tr>\n",
              "    <tr>\n",
              "      <th>7</th>\n",
              "      <td>2015-02-27 04:00:00</td>\n",
              "      <td>AAPL</td>\n",
              "      <td>492</td>\n",
              "      <td>6522</td>\n",
              "      <td>1692</td>\n",
              "    </tr>\n",
              "    <tr>\n",
              "      <th>8</th>\n",
              "      <td>2015-02-27 05:00:00</td>\n",
              "      <td>AAPL</td>\n",
              "      <td>701</td>\n",
              "      <td>7223</td>\n",
              "      <td>2163</td>\n",
              "    </tr>\n",
              "    <tr>\n",
              "      <th>9</th>\n",
              "      <td>2015-02-27 06:00:00</td>\n",
              "      <td>AAPL</td>\n",
              "      <td>393</td>\n",
              "      <td>7616</td>\n",
              "      <td>1411</td>\n",
              "    </tr>\n",
              "    <tr>\n",
              "      <th>10</th>\n",
              "      <td>2015-02-27 07:00:00</td>\n",
              "      <td>AAPL</td>\n",
              "      <td>248</td>\n",
              "      <td>7864</td>\n",
              "      <td>1100</td>\n",
              "    </tr>\n",
              "    <tr>\n",
              "      <th>11</th>\n",
              "      <td>2015-02-27 08:00:00</td>\n",
              "      <td>AAPL</td>\n",
              "      <td>255</td>\n",
              "      <td>8119</td>\n",
              "      <td>1108</td>\n",
              "    </tr>\n",
              "    <tr>\n",
              "      <th>12</th>\n",
              "      <td>2015-02-27 09:00:00</td>\n",
              "      <td>AAPL</td>\n",
              "      <td>202</td>\n",
              "      <td>8321</td>\n",
              "      <td>1156</td>\n",
              "    </tr>\n",
              "    <tr>\n",
              "      <th>13</th>\n",
              "      <td>2015-02-27 10:00:00</td>\n",
              "      <td>AAPL</td>\n",
              "      <td>283</td>\n",
              "      <td>8604</td>\n",
              "      <td>1423</td>\n",
              "    </tr>\n",
              "    <tr>\n",
              "      <th>14</th>\n",
              "      <td>2015-02-27 11:00:00</td>\n",
              "      <td>AAPL</td>\n",
              "      <td>332</td>\n",
              "      <td>8936</td>\n",
              "      <td>1517</td>\n",
              "    </tr>\n",
              "    <tr>\n",
              "      <th>15</th>\n",
              "      <td>2015-02-27 12:00:00</td>\n",
              "      <td>AAPL</td>\n",
              "      <td>404</td>\n",
              "      <td>9340</td>\n",
              "      <td>1598</td>\n",
              "    </tr>\n",
              "    <tr>\n",
              "      <th>16</th>\n",
              "      <td>2015-02-27 13:00:00</td>\n",
              "      <td>AAPL</td>\n",
              "      <td>639</td>\n",
              "      <td>9979</td>\n",
              "      <td>2156</td>\n",
              "    </tr>\n",
              "    <tr>\n",
              "      <th>17</th>\n",
              "      <td>2015-02-27 14:00:00</td>\n",
              "      <td>AAPL</td>\n",
              "      <td>680</td>\n",
              "      <td>10659</td>\n",
              "      <td>2495</td>\n",
              "    </tr>\n",
              "    <tr>\n",
              "      <th>18</th>\n",
              "      <td>2015-02-27 15:00:00</td>\n",
              "      <td>AAPL</td>\n",
              "      <td>764</td>\n",
              "      <td>11423</td>\n",
              "      <td>2515</td>\n",
              "    </tr>\n",
              "    <tr>\n",
              "      <th>19</th>\n",
              "      <td>2015-02-27 16:00:00</td>\n",
              "      <td>AAPL</td>\n",
              "      <td>898</td>\n",
              "      <td>12321</td>\n",
              "      <td>2838</td>\n",
              "    </tr>\n",
              "  </tbody>\n",
              "</table>\n",
              "</div>"
            ],
            "text/plain": [
              "             timestamp   key  value  aggregate  total\n",
              "0  2015-02-26 21:00:00  AAPL    457        457   1181\n",
              "1  2015-02-26 22:00:00  AAPL   1906       2363   3961\n",
              "2  2015-02-26 23:00:00  AAPL    973       3336   2520\n",
              "3  2015-02-27 00:00:00  AAPL    707       4043   2275\n",
              "4  2015-02-27 01:00:00  AAPL    527       4570   1977\n",
              "5  2015-02-27 02:00:00  AAPL    782       5352   2752\n",
              "6  2015-02-27 03:00:00  AAPL    678       6030   3311\n",
              "7  2015-02-27 04:00:00  AAPL    492       6522   1692\n",
              "8  2015-02-27 05:00:00  AAPL    701       7223   2163\n",
              "9  2015-02-27 06:00:00  AAPL    393       7616   1411\n",
              "10 2015-02-27 07:00:00  AAPL    248       7864   1100\n",
              "11 2015-02-27 08:00:00  AAPL    255       8119   1108\n",
              "12 2015-02-27 09:00:00  AAPL    202       8321   1156\n",
              "13 2015-02-27 10:00:00  AAPL    283       8604   1423\n",
              "14 2015-02-27 11:00:00  AAPL    332       8936   1517\n",
              "15 2015-02-27 12:00:00  AAPL    404       9340   1598\n",
              "16 2015-02-27 13:00:00  AAPL    639       9979   2156\n",
              "17 2015-02-27 14:00:00  AAPL    680      10659   2495\n",
              "18 2015-02-27 15:00:00  AAPL    764      11423   2515\n",
              "19 2015-02-27 16:00:00  AAPL    898      12321   2838"
            ]
          },
          "metadata": {
            "tags": []
          },
          "execution_count": 7
        }
      ]
    },
    {
      "cell_type": "markdown",
      "metadata": {
        "id": "cZKJqf2Fij4R"
      },
      "source": [
        "In NAB, we also have the answer. lA json file labelling all 'anomalies' datapoint which is given to us to help with validation."
      ]
    },
    {
      "cell_type": "code",
      "metadata": {
        "id": "4JRLuUoMij4R"
      },
      "source": [
        "### Read Answer Data\n",
        "import json\n",
        "# read file\n",
        "with open('./datasets/combined_labels.json', 'r') as myfile:\n",
        "    data=myfile.read()\n",
        "# parse file\n",
        "obj = json.loads(data)"
      ],
      "execution_count": 8,
      "outputs": []
    },
    {
      "cell_type": "code",
      "metadata": {
        "id": "xR4C7jpoij4U"
      },
      "source": [
        "datetimenew = []\n",
        "keyword = []\n",
        "for i in tweets:\n",
        "    filename = 'realTweets/Twitter_volume_'+str(i)+'.csv'\n",
        "    size = len(obj[filename])\n",
        "    datetimenew += obj[filename]\n",
        "    keyword += [i]*size\n",
        "target = pd.DataFrame({'key':keyword,'timestamp':datetimenew,'outlier':1})\n",
        "target['timestamp'] =  pd.to_datetime(target['timestamp'], format='%Y-%m-%d %H:%M:%S')\n",
        "target['timestamp'] = target['timestamp'].apply(lambda dt: datetime.datetime(dt.year, dt.month, dt.day, dt.hour,dt.minute//60))"
      ],
      "execution_count": 9,
      "outputs": []
    },
    {
      "cell_type": "code",
      "metadata": {
        "id": "kZnAyEa3ij4W",
        "outputId": "863ed424-0afc-4574-e3b0-98429ebc5a71",
        "colab": {
          "base_uri": "https://localhost:8080/",
          "height": 195
        }
      },
      "source": [
        "target.head()"
      ],
      "execution_count": 10,
      "outputs": [
        {
          "output_type": "execute_result",
          "data": {
            "text/html": [
              "<div>\n",
              "<style scoped>\n",
              "    .dataframe tbody tr th:only-of-type {\n",
              "        vertical-align: middle;\n",
              "    }\n",
              "\n",
              "    .dataframe tbody tr th {\n",
              "        vertical-align: top;\n",
              "    }\n",
              "\n",
              "    .dataframe thead th {\n",
              "        text-align: right;\n",
              "    }\n",
              "</style>\n",
              "<table border=\"1\" class=\"dataframe\">\n",
              "  <thead>\n",
              "    <tr style=\"text-align: right;\">\n",
              "      <th></th>\n",
              "      <th>key</th>\n",
              "      <th>timestamp</th>\n",
              "      <th>outlier</th>\n",
              "    </tr>\n",
              "  </thead>\n",
              "  <tbody>\n",
              "    <tr>\n",
              "      <th>0</th>\n",
              "      <td>AAPL</td>\n",
              "      <td>2015-03-03 21:00:00</td>\n",
              "      <td>1</td>\n",
              "    </tr>\n",
              "    <tr>\n",
              "      <th>1</th>\n",
              "      <td>AAPL</td>\n",
              "      <td>2015-03-09 17:00:00</td>\n",
              "      <td>1</td>\n",
              "    </tr>\n",
              "    <tr>\n",
              "      <th>2</th>\n",
              "      <td>AAPL</td>\n",
              "      <td>2015-03-16 02:00:00</td>\n",
              "      <td>1</td>\n",
              "    </tr>\n",
              "    <tr>\n",
              "      <th>3</th>\n",
              "      <td>AAPL</td>\n",
              "      <td>2015-03-31 03:00:00</td>\n",
              "      <td>1</td>\n",
              "    </tr>\n",
              "    <tr>\n",
              "      <th>4</th>\n",
              "      <td>AMZN</td>\n",
              "      <td>2015-03-05 19:00:00</td>\n",
              "      <td>1</td>\n",
              "    </tr>\n",
              "  </tbody>\n",
              "</table>\n",
              "</div>"
            ],
            "text/plain": [
              "    key           timestamp  outlier\n",
              "0  AAPL 2015-03-03 21:00:00        1\n",
              "1  AAPL 2015-03-09 17:00:00        1\n",
              "2  AAPL 2015-03-16 02:00:00        1\n",
              "3  AAPL 2015-03-31 03:00:00        1\n",
              "4  AMZN 2015-03-05 19:00:00        1"
            ]
          },
          "metadata": {
            "tags": []
          },
          "execution_count": 10
        }
      ]
    },
    {
      "cell_type": "code",
      "metadata": {
        "id": "DLvmKFa4ij4Y"
      },
      "source": [
        "df = df.merge(target, on=['key','timestamp'], how='left')\n",
        "df = df.fillna(0)"
      ],
      "execution_count": 11,
      "outputs": []
    },
    {
      "cell_type": "markdown",
      "metadata": {
        "id": "tDRMXtMtVVPG"
      },
      "source": [
        "We now have a dataset with six columns containing everything we need to run some basic anomaly/outlier detection."
      ]
    },
    {
      "cell_type": "code",
      "metadata": {
        "id": "4oGqPxD2ij4b",
        "outputId": "4b901930-6e1a-4a42-912e-3d1dad834912",
        "colab": {
          "base_uri": "https://localhost:8080/",
          "height": 195
        }
      },
      "source": [
        "df.head()"
      ],
      "execution_count": 12,
      "outputs": [
        {
          "output_type": "execute_result",
          "data": {
            "text/html": [
              "<div>\n",
              "<style scoped>\n",
              "    .dataframe tbody tr th:only-of-type {\n",
              "        vertical-align: middle;\n",
              "    }\n",
              "\n",
              "    .dataframe tbody tr th {\n",
              "        vertical-align: top;\n",
              "    }\n",
              "\n",
              "    .dataframe thead th {\n",
              "        text-align: right;\n",
              "    }\n",
              "</style>\n",
              "<table border=\"1\" class=\"dataframe\">\n",
              "  <thead>\n",
              "    <tr style=\"text-align: right;\">\n",
              "      <th></th>\n",
              "      <th>timestamp</th>\n",
              "      <th>key</th>\n",
              "      <th>value</th>\n",
              "      <th>aggregate</th>\n",
              "      <th>total</th>\n",
              "      <th>outlier</th>\n",
              "    </tr>\n",
              "  </thead>\n",
              "  <tbody>\n",
              "    <tr>\n",
              "      <th>0</th>\n",
              "      <td>2015-02-26 21:00:00</td>\n",
              "      <td>AAPL</td>\n",
              "      <td>457</td>\n",
              "      <td>457</td>\n",
              "      <td>1181</td>\n",
              "      <td>0.0</td>\n",
              "    </tr>\n",
              "    <tr>\n",
              "      <th>1</th>\n",
              "      <td>2015-02-26 22:00:00</td>\n",
              "      <td>AAPL</td>\n",
              "      <td>1906</td>\n",
              "      <td>2363</td>\n",
              "      <td>3961</td>\n",
              "      <td>0.0</td>\n",
              "    </tr>\n",
              "    <tr>\n",
              "      <th>2</th>\n",
              "      <td>2015-02-26 23:00:00</td>\n",
              "      <td>AAPL</td>\n",
              "      <td>973</td>\n",
              "      <td>3336</td>\n",
              "      <td>2520</td>\n",
              "      <td>0.0</td>\n",
              "    </tr>\n",
              "    <tr>\n",
              "      <th>3</th>\n",
              "      <td>2015-02-27 00:00:00</td>\n",
              "      <td>AAPL</td>\n",
              "      <td>707</td>\n",
              "      <td>4043</td>\n",
              "      <td>2275</td>\n",
              "      <td>0.0</td>\n",
              "    </tr>\n",
              "    <tr>\n",
              "      <th>4</th>\n",
              "      <td>2015-02-27 01:00:00</td>\n",
              "      <td>AAPL</td>\n",
              "      <td>527</td>\n",
              "      <td>4570</td>\n",
              "      <td>1977</td>\n",
              "      <td>0.0</td>\n",
              "    </tr>\n",
              "  </tbody>\n",
              "</table>\n",
              "</div>"
            ],
            "text/plain": [
              "            timestamp   key  value  aggregate  total  outlier\n",
              "0 2015-02-26 21:00:00  AAPL    457        457   1181      0.0\n",
              "1 2015-02-26 22:00:00  AAPL   1906       2363   3961      0.0\n",
              "2 2015-02-26 23:00:00  AAPL    973       3336   2520      0.0\n",
              "3 2015-02-27 00:00:00  AAPL    707       4043   2275      0.0\n",
              "4 2015-02-27 01:00:00  AAPL    527       4570   1977      0.0"
            ]
          },
          "metadata": {
            "tags": []
          },
          "execution_count": 12
        }
      ]
    },
    {
      "cell_type": "markdown",
      "metadata": {
        "id": "usyCrWQYij4d"
      },
      "source": [
        "## Visualization"
      ]
    },
    {
      "cell_type": "markdown",
      "metadata": {
        "id": "e4xCEF5Wij4d"
      },
      "source": [
        "Before we get into the detail, let's see what is anomalies in NAB dataset and how does it look like. Some basic plot of each time-series and anomalies are shown below."
      ]
    },
    {
      "cell_type": "code",
      "metadata": {
        "id": "wb36C83Nij4e",
        "outputId": "479d3551-90ef-4a82-86fc-9ececd4bf781",
        "colab": {
          "base_uri": "https://localhost:8080/",
          "height": 493
        }
      },
      "source": [
        "ggplot(df, aes(x='timestamp',y='value', group='key', color='key'))+ geom_line()+ theme(\n",
        "  axis_text_x = element_text(size = 5.5,angle = 90, hjust = 20, vjust = -400)\n",
        ")+geom_point(df[df['outlier']==1],aes(x='timestamp',y='value', group='key'), color='black')+facet_wrap('~key', scales='free') "
      ],
      "execution_count": 13,
      "outputs": [
        {
          "output_type": "display_data",
          "data": {
            "image/png": "[encoded data removed]",
            "text/plain": [
              "<Figure size 640x480 with 10 Axes>"
            ]
          },
          "metadata": {
            "tags": []
          }
        },
        {
          "output_type": "execute_result",
          "data": {
            "text/plain": [
              "<ggplot: (8741527921812)>"
            ]
          },
          "metadata": {
            "tags": []
          },
          "execution_count": 13
        }
      ]
    },
    {
      "cell_type": "markdown",
      "metadata": {
        "id": "OMWqtMYuij4h"
      },
      "source": [
        "What you may also noticed is that anomalies point that were given by NAB benchmark wasn't entirely accurate in all case or at the very least up for interpretation."
      ]
    },
    {
      "cell_type": "code",
      "metadata": {
        "id": "fcBiEkO3ij4h",
        "outputId": "fef25fda-5f31-4472-ac4c-f10894a3d651",
        "colab": {
          "base_uri": "https://localhost:8080/"
        }
      },
      "source": [
        "obj['realTweets/Twitter_volume_AAPL.csv']"
      ],
      "execution_count": 14,
      "outputs": [
        {
          "output_type": "execute_result",
          "data": {
            "text/plain": [
              "['2015-03-03 21:07:53',\n",
              " '2015-03-09 17:32:53',\n",
              " '2015-03-16 02:57:53',\n",
              " '2015-03-31 03:27:53']"
            ]
          },
          "metadata": {
            "tags": []
          },
          "execution_count": 14
        }
      ]
    },
    {
      "cell_type": "code",
      "metadata": {
        "id": "9OgybX91ij4j",
        "outputId": "20bc823c-cd5c-411d-8b54-55215c69e444",
        "colab": {
          "base_uri": "https://localhost:8080/",
          "height": 473
        }
      },
      "source": [
        "ggplot(df[df['key']=='AAPL'], aes(x='timestamp',y='value', group='key', color='key'))+ geom_line()+ theme(\n",
        "  axis_text_x = element_text(size = 5.5,angle = 90, hjust = 20, vjust = -400)\n",
        ")+geom_point(df[(df['outlier']==1)&(df['key']=='AAPL')],aes(x='timestamp',y='value', group='key'), color='black')\n"
      ],
      "execution_count": 15,
      "outputs": [
        {
          "output_type": "display_data",
          "data": {
            "image/png": "[encoded data removed]",
            "text/plain": [
              "<Figure size 640x480 with 1 Axes>"
            ]
          },
          "metadata": {
            "tags": []
          }
        },
        {
          "output_type": "execute_result",
          "data": {
            "text/plain": [
              "<ggplot: (-9223363295327579704)>"
            ]
          },
          "metadata": {
            "tags": []
          },
          "execution_count": 15
        }
      ]
    },
    {
      "cell_type": "markdown",
      "metadata": {
        "id": "LFlgsTTjV0zV"
      },
      "source": [
        "We also run visualization by 'aggregate data', this is less clear."
      ]
    },
    {
      "cell_type": "code",
      "metadata": {
        "id": "xo6Tbzbqij4m",
        "outputId": "703112b2-7a8f-453f-ebe8-a9ff3b04b899",
        "colab": {
          "base_uri": "https://localhost:8080/",
          "height": 493
        }
      },
      "source": [
        "ggplot(df, aes(x='timestamp',y='aggregate', group='key', color='key'))+ geom_line()+ theme(\n",
        "  axis_text_x = element_text(size = 5.5,angle = 90, hjust = 20, vjust = -400)\n",
        ")+geom_point(df[df['outlier']==1],aes(x='timestamp',y='aggregate', group='key'), color='black')+facet_wrap('~key', scales='free') "
      ],
      "execution_count": 16,
      "outputs": [
        {
          "output_type": "display_data",
          "data": {
            "image/png": "[encoded data removed]",
            "text/plain": [
              "<Figure size 640x480 with 10 Axes>"
            ]
          },
          "metadata": {
            "tags": []
          }
        },
        {
          "output_type": "execute_result",
          "data": {
            "text/plain": [
              "<ggplot: (-9223363247513242203)>"
            ]
          },
          "metadata": {
            "tags": []
          },
          "execution_count": 16
        }
      ]
    },
    {
      "cell_type": "code",
      "metadata": {
        "id": "2ysjIxJKij4o",
        "outputId": "70d2e7f0-24ee-4877-c647-a76f27453e48",
        "colab": {
          "base_uri": "https://localhost:8080/",
          "height": 473
        }
      },
      "source": [
        "ggplot(df[df['key']=='AAPL'], aes(x='timestamp',y='aggregate', group='key', color='key'))+ geom_line()+ theme(\n",
        "  axis_text_x = element_text(size = 5.5,angle = 90, hjust = 20, vjust = -400)\n",
        ")+geom_point(df[(df['outlier']==1)&(df['key']=='AAPL')],aes(x='timestamp',y='aggregate', group='key'), color='black')"
      ],
      "execution_count": 16,
      "outputs": [
        {
          "output_type": "display_data",
          "data": {
            "image/png": "[encoded data removed]",
            "text/plain": [
              "<Figure size 640x480 with 1 Axes>"
            ]
          },
          "metadata": {
            "tags": []
          }
        },
        {
          "output_type": "execute_result",
          "data": {
            "text/plain": [
              "<ggplot: (-9223363295331161477)>"
            ]
          },
          "metadata": {
            "tags": []
          },
          "execution_count": 16
        }
      ]
    },
    {
      "cell_type": "markdown",
      "metadata": {
        "id": "BUz3COmtij4r"
      },
      "source": [
        "## Anomalies"
      ]
    },
    {
      "cell_type": "markdown",
      "metadata": {
        "id": "LaSjXEfCij4r"
      },
      "source": [
        "After some basic visualization to understand what kind of anomalies existed in this example dataset., we now just need to give a brief explanation of an anomaly (or outlier). It is the deviation in a quantity from its expected value. Anomaly detection is the search of that which ‘does not conform’ with expected value."
      ]
    },
    {
      "cell_type": "markdown",
      "metadata": {
        "id": "paDbGyNvij4s"
      },
      "source": [
        "* Point Anomaly\n",
        "![Point Anomaly](https://github.com/FreelancerFel/Anomalies_Detection/blob/master/global-outlier.png?raw=1)\n",
        "* Contextual Anomaly\n",
        "![Anomaly](https://github.com/FreelancerFel/Anomalies_Detection/blob/master/contextual-outlier.png?raw=1)\n",
        "* Collective Anomaly\n",
        "![Anomaly](https://github.com/FreelancerFel/Anomalies_Detection/blob/master/collective-outliers.png?raw=1)"
      ]
    },
    {
      "cell_type": "markdown",
      "metadata": {
        "id": "rZbZ4WXJij4s"
      },
      "source": [
        "# Looking into the future - Using Forecasting to detect anomalies"
      ]
    },
    {
      "cell_type": "markdown",
      "metadata": {
        "id": "YRDENAUnij4s"
      },
      "source": [
        "One of the most simple way of detecting anomalies is to use time-series prediction. Essentially, anomalies is about finding datapoint that is out of ordinary. Time series forecasting helps us estimate that ordinary which we can then use to detect anomalies by comparing them with actual data.\n",
        "\n",
        "**It does requires you to set a threshold, but this can be navigate with multiple threshold if you are unsure.**\n",
        "\n",
        "This obviously relies on good forecasting model, but it also means that any forecasting model is compatible with this idea.\n",
        "\n",
        "* Exponential Smoothing\n",
        "* ARIMA\n",
        "* XGBoost - Lag Feature\n",
        "\n",
        "In this instance, we will simply use ARIMA which is essentially lag feature regression."
      ]
    },
    {
      "cell_type": "code",
      "metadata": {
        "id": "DViGlz1mij4t",
        "outputId": "065e1ef9-dcc2-4a15-c149-fb1944ff55df",
        "colab": {
          "base_uri": "https://localhost:8080/",
          "height": 195
        }
      },
      "source": [
        "AnomaliesData = df[df['key']=='AAPL']\n",
        "train, test = (AnomaliesData.value[0:-48]), (AnomaliesData.value[-48:])\n",
        "train_log, test_log = np.log10(train), np.log10(test) # take log to scale\n",
        "AnomaliesData.head()"
      ],
      "execution_count": 17,
      "outputs": [
        {
          "output_type": "execute_result",
          "data": {
            "text/html": [
              "<div>\n",
              "<style scoped>\n",
              "    .dataframe tbody tr th:only-of-type {\n",
              "        vertical-align: middle;\n",
              "    }\n",
              "\n",
              "    .dataframe tbody tr th {\n",
              "        vertical-align: top;\n",
              "    }\n",
              "\n",
              "    .dataframe thead th {\n",
              "        text-align: right;\n",
              "    }\n",
              "</style>\n",
              "<table border=\"1\" class=\"dataframe\">\n",
              "  <thead>\n",
              "    <tr style=\"text-align: right;\">\n",
              "      <th></th>\n",
              "      <th>timestamp</th>\n",
              "      <th>key</th>\n",
              "      <th>value</th>\n",
              "      <th>aggregate</th>\n",
              "      <th>total</th>\n",
              "      <th>outlier</th>\n",
              "    </tr>\n",
              "  </thead>\n",
              "  <tbody>\n",
              "    <tr>\n",
              "      <th>0</th>\n",
              "      <td>2015-02-26 21:00:00</td>\n",
              "      <td>AAPL</td>\n",
              "      <td>457</td>\n",
              "      <td>457</td>\n",
              "      <td>1181</td>\n",
              "      <td>0.0</td>\n",
              "    </tr>\n",
              "    <tr>\n",
              "      <th>1</th>\n",
              "      <td>2015-02-26 22:00:00</td>\n",
              "      <td>AAPL</td>\n",
              "      <td>1906</td>\n",
              "      <td>2363</td>\n",
              "      <td>3961</td>\n",
              "      <td>0.0</td>\n",
              "    </tr>\n",
              "    <tr>\n",
              "      <th>2</th>\n",
              "      <td>2015-02-26 23:00:00</td>\n",
              "      <td>AAPL</td>\n",
              "      <td>973</td>\n",
              "      <td>3336</td>\n",
              "      <td>2520</td>\n",
              "      <td>0.0</td>\n",
              "    </tr>\n",
              "    <tr>\n",
              "      <th>3</th>\n",
              "      <td>2015-02-27 00:00:00</td>\n",
              "      <td>AAPL</td>\n",
              "      <td>707</td>\n",
              "      <td>4043</td>\n",
              "      <td>2275</td>\n",
              "      <td>0.0</td>\n",
              "    </tr>\n",
              "    <tr>\n",
              "      <th>4</th>\n",
              "      <td>2015-02-27 01:00:00</td>\n",
              "      <td>AAPL</td>\n",
              "      <td>527</td>\n",
              "      <td>4570</td>\n",
              "      <td>1977</td>\n",
              "      <td>0.0</td>\n",
              "    </tr>\n",
              "  </tbody>\n",
              "</table>\n",
              "</div>"
            ],
            "text/plain": [
              "            timestamp   key  value  aggregate  total  outlier\n",
              "0 2015-02-26 21:00:00  AAPL    457        457   1181      0.0\n",
              "1 2015-02-26 22:00:00  AAPL   1906       2363   3961      0.0\n",
              "2 2015-02-26 23:00:00  AAPL    973       3336   2520      0.0\n",
              "3 2015-02-27 00:00:00  AAPL    707       4043   2275      0.0\n",
              "4 2015-02-27 01:00:00  AAPL    527       4570   1977      0.0"
            ]
          },
          "metadata": {
            "tags": []
          },
          "execution_count": 17
        }
      ]
    },
    {
      "cell_type": "markdown",
      "metadata": {
        "id": "6U2MdWS3ij4w"
      },
      "source": [
        "Determine P,D,Q through ACF and PACF table, alternatively use grid search according to either AIC, AICc or BIC value"
      ]
    },
    {
      "cell_type": "code",
      "metadata": {
        "id": "h8WtZfaeij4x",
        "outputId": "f6987cf0-18f0-4981-9e4c-2a899064c7d7",
        "colab": {
          "base_uri": "https://localhost:8080/",
          "height": 281
        }
      },
      "source": [
        "fig, axes = plt.subplots(1, 2, figsize=(15,4))\n",
        "fig = sm.graphics.tsa.plot_acf(train, lags=40, ax=axes[0])\n",
        "fig = sm.graphics.tsa.plot_pacf(train, lags=40, ax=axes[1])"
      ],
      "execution_count": 18,
      "outputs": [
        {
          "output_type": "display_data",
          "data": {
            "image/png": "[encoded data removed]",
            "text/plain": [
              "<Figure size 1080x288 with 2 Axes>"
            ]
          },
          "metadata": {
            "tags": [],
            "needs_background": "light"
          }
        }
      ]
    },
    {
      "cell_type": "code",
      "metadata": {
        "id": "MDdmVVCCij4z",
        "outputId": "898fa78e-c524-40da-d44e-66f76cde4799",
        "colab": {
          "base_uri": "https://localhost:8080/"
        }
      },
      "source": [
        "order_pdq = (1, 1, 1)\n",
        "seasonal_order_pdq = (0, 1, 1, 6)\n",
        "datapoint = [x for x in train_log]\n",
        "model = sm.tsa.SARIMAX(datapoint, order=order_pdq, seasonal_order=seasonal_order_pdq,enforce_stationarity=False,enforce_invertibility=False)\n",
        "res = model.fit(disp=False)\n",
        "print(res.summary())"
      ],
      "execution_count": 21,
      "outputs": [
        {
          "output_type": "stream",
          "text": [
            "                                 Statespace Model Results                                \n",
            "=========================================================================================\n",
            "Dep. Variable:                                 y   No. Observations:                 1276\n",
            "Model:             SARIMAX(1, 1, 1)x(0, 1, 1, 6)   Log Likelihood                 181.208\n",
            "Date:                           Sun, 08 Nov 2020   AIC                           -354.416\n",
            "Time:                                   19:51:53   BIC                           -333.857\n",
            "Sample:                                        0   HQIC                          -346.691\n",
            "                                          - 1276                                         \n",
            "Covariance Type:                             opg                                         \n",
            "==============================================================================\n",
            "                 coef    std err          z      P>|z|      [0.025      0.975]\n",
            "------------------------------------------------------------------------------\n",
            "ar.L1          0.7932      0.012     66.069      0.000       0.770       0.817\n",
            "ma.L1         -1.0000      2.761     -0.362      0.717      -6.412       4.412\n",
            "ma.S.L6       -1.0133      0.012    -87.482      0.000      -1.036      -0.991\n",
            "sigma2         0.0418      0.115      0.363      0.717      -0.184       0.268\n",
            "===================================================================================\n",
            "Ljung-Box (Q):                      133.56   Jarque-Bera (JB):              5984.54\n",
            "Prob(Q):                              0.00   Prob(JB):                         0.00\n",
            "Heteroskedasticity (H):               1.14   Skew:                             1.82\n",
            "Prob(H) (two-sided):                  0.18   Kurtosis:                        13.03\n",
            "===================================================================================\n",
            "\n",
            "Warnings:\n",
            "[1] Covariance matrix calculated using the outer product of gradients (complex-step).\n"
          ],
          "name": "stdout"
        }
      ]
    },
    {
      "cell_type": "markdown",
      "metadata": {
        "id": "C9vRbAcQij41"
      },
      "source": [
        "We are not trying to predict everything from scratch, but rather use information at each stage to predict what is likely to be the next stage. So instead of train/test split that are norm in forecasting, we reuse the data at every stage and make prediction only for the next datapoint."
      ]
    },
    {
      "cell_type": "code",
      "metadata": {
        "id": "F0o0FtAnij42",
        "outputId": "3076795f-8dc7-4cf3-ff6c-fd3c9247bd30",
        "colab": {
          "base_uri": "https://localhost:8080/"
        }
      },
      "source": [
        "predictions = list()\n",
        "predict_log = list()\n",
        "for t in range(len(test_log)):\n",
        "    model = sm.tsa.SARIMAX(datapoint, order=order_pdq, seasonal_order=seasonal_order_pdq,enforce_stationarity=False,enforce_invertibility=False)\n",
        "    model_fit = model.fit(disp=0)\n",
        "    output = model_fit.forecast()\n",
        "    predict_log.append(output[0])\n",
        "    yhat = 10**output[0]\n",
        "    predictions.append(yhat)\n",
        "    obs = test_log.iloc[t]\n",
        "    datapoint.append(obs)\n",
        "predictions = pd.Series(predictions)\n",
        "predictions.index = test.index"
      ],
      "execution_count": 22,
      "outputs": [
        {
          "output_type": "stream",
          "text": [
            "/usr/local/lib/python3.6/dist-packages/statsmodels/base/model.py:512: ConvergenceWarning: Maximum Likelihood optimization failed to converge. Check mle_retvals\n",
            "  \"Check mle_retvals\", ConvergenceWarning)\n"
          ],
          "name": "stderr"
        }
      ]
    },
    {
      "cell_type": "code",
      "metadata": {
        "id": "YP4_aIFdij44",
        "outputId": "8d00be97-11e8-4c46-8ef3-c60686024e68",
        "colab": {
          "base_uri": "https://localhost:8080/",
          "height": 428
        }
      },
      "source": [
        "figsize=(15, 7)\n",
        "plt.figure(figsize=figsize)\n",
        "pyplot.plot(train,label='train', color='blue')\n",
        "pyplot.plot(test,label='test', color='purple')\n",
        "pyplot.plot(predictions, color='green',label='Predicted')\n",
        "pyplot.legend(loc='upper right')\n",
        "pyplot.show()"
      ],
      "execution_count": 23,
      "outputs": [
        {
          "output_type": "display_data",
          "data": {
            "image/png": "[encoded data removed]",
            "text/plain": [
              "<Figure size 1080x504 with 1 Axes>"
            ]
          },
          "metadata": {
            "tags": [],
            "needs_background": "light"
          }
        }
      ]
    },
    {
      "cell_type": "markdown",
      "metadata": {
        "id": "LGsD6yxFbski"
      },
      "source": [
        "Obviously, if you want to look at anomalies in a certain area, you shouldn't train your forecast model using that data. So we reserved some data at the end for some test."
      ]
    },
    {
      "cell_type": "code",
      "metadata": {
        "id": "1y9_gTMFij47",
        "outputId": "00fea1e8-8de3-4d17-9500-c0ef6293e2f6",
        "colab": {
          "base_uri": "https://localhost:8080/",
          "height": 428
        }
      },
      "source": [
        "figsize=(15, 7)\n",
        "plt.figure(figsize=figsize)\n",
        "pyplot.plot(test,label='test', color='purple')\n",
        "pyplot.plot(predictions, color='green',label='Predicted')\n",
        "pyplot.legend(loc='upper right')\n",
        "pyplot.show()"
      ],
      "execution_count": 24,
      "outputs": [
        {
          "output_type": "display_data",
          "data": {
            "image/png": "[encoded data removed]",
            "text/plain": [
              "<Figure size 1080x504 with 1 Axes>"
            ]
          },
          "metadata": {
            "tags": [],
            "needs_background": "light"
          }
        }
      ]
    },
    {
      "cell_type": "code",
      "metadata": {
        "id": "LtU9j1Rsij49",
        "outputId": "32c5800e-9ff2-4ee1-fd79-4b6e60d7f037",
        "colab": {
          "base_uri": "https://localhost:8080/",
          "height": 195
        }
      },
      "source": [
        "predicted_df=pd.DataFrame()\n",
        "predicted_df['load_date']=AnomaliesData['timestamp'][-48:]\n",
        "predicted_df['actuals']=test\n",
        "predicted_df['predicted']=predictions\n",
        "predicted_df.reset_index(inplace=True)\n",
        "del predicted_df['index']\n",
        "predicted_df.head()"
      ],
      "execution_count": 25,
      "outputs": [
        {
          "output_type": "execute_result",
          "data": {
            "text/html": [
              "<div>\n",
              "<style scoped>\n",
              "    .dataframe tbody tr th:only-of-type {\n",
              "        vertical-align: middle;\n",
              "    }\n",
              "\n",
              "    .dataframe tbody tr th {\n",
              "        vertical-align: top;\n",
              "    }\n",
              "\n",
              "    .dataframe thead th {\n",
              "        text-align: right;\n",
              "    }\n",
              "</style>\n",
              "<table border=\"1\" class=\"dataframe\">\n",
              "  <thead>\n",
              "    <tr style=\"text-align: right;\">\n",
              "      <th></th>\n",
              "      <th>load_date</th>\n",
              "      <th>actuals</th>\n",
              "      <th>predicted</th>\n",
              "    </tr>\n",
              "  </thead>\n",
              "  <tbody>\n",
              "    <tr>\n",
              "      <th>0</th>\n",
              "      <td>2015-04-21 03:00:00</td>\n",
              "      <td>1334</td>\n",
              "      <td>1102.542009</td>\n",
              "    </tr>\n",
              "    <tr>\n",
              "      <th>1</th>\n",
              "      <td>2015-04-21 04:00:00</td>\n",
              "      <td>847</td>\n",
              "      <td>1092.374260</td>\n",
              "    </tr>\n",
              "    <tr>\n",
              "      <th>2</th>\n",
              "      <td>2015-04-21 05:00:00</td>\n",
              "      <td>675</td>\n",
              "      <td>856.415241</td>\n",
              "    </tr>\n",
              "    <tr>\n",
              "      <th>3</th>\n",
              "      <td>2015-04-21 06:00:00</td>\n",
              "      <td>502</td>\n",
              "      <td>651.847114</td>\n",
              "    </tr>\n",
              "    <tr>\n",
              "      <th>4</th>\n",
              "      <td>2015-04-21 07:00:00</td>\n",
              "      <td>389</td>\n",
              "      <td>504.849428</td>\n",
              "    </tr>\n",
              "  </tbody>\n",
              "</table>\n",
              "</div>"
            ],
            "text/plain": [
              "            load_date  actuals    predicted\n",
              "0 2015-04-21 03:00:00     1334  1102.542009\n",
              "1 2015-04-21 04:00:00      847  1092.374260\n",
              "2 2015-04-21 05:00:00      675   856.415241\n",
              "3 2015-04-21 06:00:00      502   651.847114\n",
              "4 2015-04-21 07:00:00      389   504.849428"
            ]
          },
          "metadata": {
            "tags": []
          },
          "execution_count": 25
        }
      ]
    },
    {
      "cell_type": "markdown",
      "metadata": {
        "id": "WaKgG3pGij5A"
      },
      "source": [
        "What we have now is the real and predicted data, we just need to look at the average and distribution of the 'error' of our model to create potential approximate 'normal' pattern.\n",
        "\n",
        "Subsequently, anything outside of that pattern is a potential anomalies."
      ]
    },
    {
      "cell_type": "code",
      "metadata": {
        "id": "-yfnWCIWij5A"
      },
      "source": [
        "import numpy as np\n",
        "def anomalies(df,rollingwindows):\n",
        "    df['error']=df['actuals']-df['predicted']\n",
        "    df['meanerror'] = df['error'].rolling(window=rollingwindows).mean()\n",
        "    df['deviationerror'] = df['error'].rolling(window=rollingwindows).std()\n",
        "    df['-3sderror'] = df['meanerror'] - (3 * df['deviationerror'])\n",
        "    df['3sderror'] = df['meanerror'] + (3 * df['deviationerror'])\n",
        "    df['-2sderror'] = df['meanerror'] - (2 * df['deviationerror'])\n",
        "    df['2sderror'] = df['meanerror'] + (2 * df['deviationerror'])\n",
        "    df['-1sderror'] = df['meanerror'] - (1 * df['deviationerror'])\n",
        "    df['1sderror'] = df['meanerror'] + (1 * df['deviationerror'])\n",
        "    cut_list = df[['error', '-3sderror', '-2sderror', '-1sderror', 'meanerror', '1sderror', '2sderror', '3sderror']]\n",
        "    cut_sort = np.sort(cut_list.values)\n",
        "    df['Anomalies_Strength'] = [(lambda number: np.where(cut_sort == df['error'][number])[1][0])(number)\\\n",
        "                                for number in range(len(df['error']))]\n",
        "    severity = {0: 'Severe Anomaly', 1: 'Anomaly', 2: 'Unusual', 3: 'Normal', 4: 'Normal',\n",
        "                5: 'Unusual', 6: 'Anomaly', 7: 'Severe Anomaly'}\n",
        "    df['Anomalies_Strength'] =  df['Anomalies_Strength'].map(severity)\n",
        "    df['anomaly_points'] = np.where(df['Anomalies_Strength'] == 'Severe Anomaly', df['error'], np.nan)\n",
        "    df = df.sort_values(by='load_date', ascending=False)\n",
        "    df.load_date = pd.to_datetime(df['load_date'].astype(str), format=\"%Y-%m-%d\")\n",
        "    df[-rollingwindows:]['anomaly_points'] = np.NaN\n",
        "    df[-rollingwindows:]['Anomalies_Strength'] = 'Normal'\n",
        "    df['upper_boundary'] = df['predicted']+df['1sderror']\n",
        "    df['lower_boundary'] = df['predicted']+df['-1sderror']\n",
        "    df['upper_boundary_high'] = df['predicted']+df['3sderror']\n",
        "    df['lower_boundary_high'] = df['predicted']+df['-3sderror']\n",
        "    df = df.drop(columns=['1sderror', '-1sderror','2sderror','-2sderror','-3sderror','3sderror'])\n",
        "    return df"
      ],
      "execution_count": 26,
      "outputs": []
    },
    {
      "cell_type": "code",
      "metadata": {
        "id": "QcjJxTmzij5C"
      },
      "source": [
        "classify_df=anomalies(predicted_df,12)"
      ],
      "execution_count": 27,
      "outputs": []
    },
    {
      "cell_type": "code",
      "metadata": {
        "id": "3gTNKZ1Yij5E",
        "outputId": "f8e2f7e4-28a8-4d0e-bb60-f16019cf3038",
        "colab": {
          "base_uri": "https://localhost:8080/",
          "height": 474
        }
      },
      "source": [
        "ggplot(classify_df)+ geom_line(aes(x='load_date',y='actuals')) \\\n",
        "+ geom_point(aes(x='load_date',y='actuals',color='Anomalies_Strength'))+\\\n",
        "  scale_color_manual(values = {'Normal':\"black\",'Anomaly':\"orange\",'Severe Anomaly':\"red\",'Unusual':'yellow'})\\\n",
        "+theme(axis_text_x = element_text(size = 5.5,angle = 90, hjust = 20, vjust = -400))\\\n",
        "+geom_line(aes(x='load_date',y='upper_boundary'),color='orange',linetype=\"dotted\")\\\n",
        "+geom_line(aes(x='load_date',y='lower_boundary'),color='orange',linetype=\"dotted\")\\\n",
        "+geom_line(aes(x='load_date',y='upper_boundary_high'),color='red',linetype=\"dotted\")\\\n",
        "+geom_line(aes(x='load_date',y='lower_boundary_high'),color='red',linetype=\"dotted\")"
      ],
      "execution_count": 29,
      "outputs": [
        {
          "output_type": "display_data",
          "data": {
            "image/png": "[encoded data removed]",
            "text/plain": [
              "<Figure size 640x480 with 1 Axes>"
            ]
          },
          "metadata": {
            "tags": []
          }
        },
        {
          "output_type": "execute_result",
          "data": {
            "text/plain": [
              "<ggplot: (8741527400182)>"
            ]
          },
          "metadata": {
            "tags": []
          },
          "execution_count": 29
        }
      ]
    },
    {
      "cell_type": "code",
      "metadata": {
        "id": "frgudNZcij5G",
        "outputId": "fb1e756e-1c6a-46a1-d7cc-c75018992ef8",
        "colab": {
          "base_uri": "https://localhost:8080/",
          "height": 383
        }
      },
      "source": [
        "classify_df.head()"
      ],
      "execution_count": 30,
      "outputs": [
        {
          "output_type": "execute_result",
          "data": {
            "text/html": [
              "<div>\n",
              "<style scoped>\n",
              "    .dataframe tbody tr th:only-of-type {\n",
              "        vertical-align: middle;\n",
              "    }\n",
              "\n",
              "    .dataframe tbody tr th {\n",
              "        vertical-align: top;\n",
              "    }\n",
              "\n",
              "    .dataframe thead th {\n",
              "        text-align: right;\n",
              "    }\n",
              "</style>\n",
              "<table border=\"1\" class=\"dataframe\">\n",
              "  <thead>\n",
              "    <tr style=\"text-align: right;\">\n",
              "      <th></th>\n",
              "      <th>load_date</th>\n",
              "      <th>actuals</th>\n",
              "      <th>predicted</th>\n",
              "      <th>error</th>\n",
              "      <th>meanerror</th>\n",
              "      <th>deviationerror</th>\n",
              "      <th>Anomalies_Strength</th>\n",
              "      <th>anomaly_points</th>\n",
              "      <th>upper_boundary</th>\n",
              "      <th>lower_boundary</th>\n",
              "      <th>upper_boundary_high</th>\n",
              "      <th>lower_boundary_high</th>\n",
              "    </tr>\n",
              "  </thead>\n",
              "  <tbody>\n",
              "    <tr>\n",
              "      <th>47</th>\n",
              "      <td>2015-04-23 02:00:00</td>\n",
              "      <td>445</td>\n",
              "      <td>781.473252</td>\n",
              "      <td>-336.473252</td>\n",
              "      <td>37.698309</td>\n",
              "      <td>543.889056</td>\n",
              "      <td>Normal</td>\n",
              "      <td>NaN</td>\n",
              "      <td>1363.060618</td>\n",
              "      <td>275.282505</td>\n",
              "      <td>2450.838730</td>\n",
              "      <td>-812.495608</td>\n",
              "    </tr>\n",
              "    <tr>\n",
              "      <th>46</th>\n",
              "      <td>2015-04-23 01:00:00</td>\n",
              "      <td>717</td>\n",
              "      <td>685.537941</td>\n",
              "      <td>31.462059</td>\n",
              "      <td>69.818659</td>\n",
              "      <td>531.011939</td>\n",
              "      <td>Normal</td>\n",
              "      <td>NaN</td>\n",
              "      <td>1286.368539</td>\n",
              "      <td>224.344661</td>\n",
              "      <td>2348.392417</td>\n",
              "      <td>-837.679218</td>\n",
              "    </tr>\n",
              "    <tr>\n",
              "      <th>45</th>\n",
              "      <td>2015-04-23 00:00:00</td>\n",
              "      <td>718</td>\n",
              "      <td>662.786431</td>\n",
              "      <td>55.213569</td>\n",
              "      <td>66.042498</td>\n",
              "      <td>531.470421</td>\n",
              "      <td>Normal</td>\n",
              "      <td>NaN</td>\n",
              "      <td>1260.299349</td>\n",
              "      <td>197.358508</td>\n",
              "      <td>2323.240191</td>\n",
              "      <td>-865.582334</td>\n",
              "    </tr>\n",
              "    <tr>\n",
              "      <th>44</th>\n",
              "      <td>2015-04-22 23:00:00</td>\n",
              "      <td>670</td>\n",
              "      <td>833.300994</td>\n",
              "      <td>-163.300994</td>\n",
              "      <td>58.816624</td>\n",
              "      <td>532.219965</td>\n",
              "      <td>Normal</td>\n",
              "      <td>NaN</td>\n",
              "      <td>1424.337583</td>\n",
              "      <td>359.897653</td>\n",
              "      <td>2488.777513</td>\n",
              "      <td>-704.542277</td>\n",
              "    </tr>\n",
              "    <tr>\n",
              "      <th>43</th>\n",
              "      <td>2015-04-22 22:00:00</td>\n",
              "      <td>843</td>\n",
              "      <td>778.259680</td>\n",
              "      <td>64.740320</td>\n",
              "      <td>80.837811</td>\n",
              "      <td>527.641327</td>\n",
              "      <td>Normal</td>\n",
              "      <td>NaN</td>\n",
              "      <td>1386.738818</td>\n",
              "      <td>331.456164</td>\n",
              "      <td>2442.021472</td>\n",
              "      <td>-723.826490</td>\n",
              "    </tr>\n",
              "  </tbody>\n",
              "</table>\n",
              "</div>"
            ],
            "text/plain": [
              "             load_date  actuals  ...  upper_boundary_high  lower_boundary_high\n",
              "47 2015-04-23 02:00:00      445  ...          2450.838730          -812.495608\n",
              "46 2015-04-23 01:00:00      717  ...          2348.392417          -837.679218\n",
              "45 2015-04-23 00:00:00      718  ...          2323.240191          -865.582334\n",
              "44 2015-04-22 23:00:00      670  ...          2488.777513          -704.542277\n",
              "43 2015-04-22 22:00:00      843  ...          2442.021472          -723.826490\n",
              "\n",
              "[5 rows x 12 columns]"
            ]
          },
          "metadata": {
            "tags": []
          },
          "execution_count": 30
        }
      ]
    },
    {
      "cell_type": "markdown",
      "metadata": {
        "id": "3Fqmulebij5I"
      },
      "source": [
        "# Looking into the past - Kleinberg's Burst Detection"
      ]
    },
    {
      "cell_type": "markdown",
      "metadata": {
        "id": "4McCvnlGij5I"
      },
      "source": [
        "http://www.cs.cornell.edu/home/kleinber/bhs.pdf\n",
        "\n",
        "Kleinberg’s algorithm identifies periods of time in which an event of particular interest is uncharacteristically frequent, or “bursty.”  It can be used to detect bursts in a continuous stream or batches of events by assumeing that there are only two possible states, the baseline state and the 'bursty' state. \n",
        "\n",
        "The probability of event of interest happening in baseline state is equal to the total number of event of interest divided by total number of events. The 'bursty' state probability is constant multiplied by baseline probability."
      ]
    },
    {
      "cell_type": "markdown",
      "metadata": {
        "id": "mtK7JrQoij5J"
      },
      "source": [
        "\n",
        "* pybursts (Continuous stream) = https://github.com/romain-fontugne/pybursts (Forked version which fix some problem)\n",
        "* burst_detection (Batch event) = https://github.com/nmarinsek/burst_detection"
      ]
    },
    {
      "cell_type": "markdown",
      "metadata": {
        "id": "nzMudvojij5J"
      },
      "source": [
        "The total cost of transitioning from normal state to burst is equal to the sum of the two functions below. With the cost found, we can then find the optimal state sequence that tell us what is the state at each timepoint by measuring if the new state has been reached or not."
      ]
    },
    {
      "cell_type": "markdown",
      "metadata": {
        "id": "MD9IVmatij5K"
      },
      "source": [
        "The goodness of fit between the observed proportion and the expected probability of each state.\n",
        "\n",
        "$\\sigma(i,r_t,d_t)= - ln[\\binom{d_t}{r_t}p_i^{rt}(1-p_i)^{d_t-r_t}]$"
      ]
    },
    {
      "cell_type": "markdown",
      "metadata": {
        "id": "pdB4BHnZij5K"
      },
      "source": [
        "The difficulty of transitioning from the previous state to the next state.\n",
        "\n",
        "$\\tau= - (i_{next}-i_{prev})*\\gamma*ln(n)$"
      ]
    },
    {
      "cell_type": "code",
      "metadata": {
        "id": "9zrbIAzCij5K",
        "outputId": "4ad9aa3f-c897-43f5-d06b-978d94460e7f",
        "colab": {
          "base_uri": "https://localhost:8080/",
          "height": 402
        }
      },
      "source": [
        "AnomaliesData_Start = df[df['key']=='AAPL']\n",
        "min_max_scaler = preprocessing.MinMaxScaler()\n",
        "np_scaled = min_max_scaler.fit_transform(AnomaliesData_Start[['value','total']])\n",
        "AnomaliesData = pd.DataFrame(np_scaled*100, columns = ['value','total']) \n",
        "#Scaled the data because of issue with binomial coefficient\n",
        "r = pd.Series(AnomaliesData['value']).astype('float')\n",
        "d = pd.Series(AnomaliesData['total']).astype('float')\n",
        "AnomaliesData"
      ],
      "execution_count": 37,
      "outputs": [
        {
          "output_type": "execute_result",
          "data": {
            "text/html": [
              "<div>\n",
              "<style scoped>\n",
              "    .dataframe tbody tr th:only-of-type {\n",
              "        vertical-align: middle;\n",
              "    }\n",
              "\n",
              "    .dataframe tbody tr th {\n",
              "        vertical-align: top;\n",
              "    }\n",
              "\n",
              "    .dataframe thead th {\n",
              "        text-align: right;\n",
              "    }\n",
              "</style>\n",
              "<table border=\"1\" class=\"dataframe\">\n",
              "  <thead>\n",
              "    <tr style=\"text-align: right;\">\n",
              "      <th></th>\n",
              "      <th>value</th>\n",
              "      <th>total</th>\n",
              "    </tr>\n",
              "  </thead>\n",
              "  <tbody>\n",
              "    <tr>\n",
              "      <th>0</th>\n",
              "      <td>0.492525</td>\n",
              "      <td>1.004743</td>\n",
              "    </tr>\n",
              "    <tr>\n",
              "      <th>1</th>\n",
              "      <td>2.603969</td>\n",
              "      <td>5.000719</td>\n",
              "    </tr>\n",
              "    <tr>\n",
              "      <th>2</th>\n",
              "      <td>1.244426</td>\n",
              "      <td>2.929424</td>\n",
              "    </tr>\n",
              "    <tr>\n",
              "      <th>3</th>\n",
              "      <td>0.856818</td>\n",
              "      <td>2.577260</td>\n",
              "    </tr>\n",
              "    <tr>\n",
              "      <th>4</th>\n",
              "      <td>0.594527</td>\n",
              "      <td>2.148915</td>\n",
              "    </tr>\n",
              "    <tr>\n",
              "      <th>...</th>\n",
              "      <td>...</td>\n",
              "      <td>...</td>\n",
              "    </tr>\n",
              "    <tr>\n",
              "      <th>1319</th>\n",
              "      <td>1.054994</td>\n",
              "      <td>0.878252</td>\n",
              "    </tr>\n",
              "    <tr>\n",
              "      <th>1320</th>\n",
              "      <td>0.802903</td>\n",
              "      <td>0.424033</td>\n",
              "    </tr>\n",
              "    <tr>\n",
              "      <th>1321</th>\n",
              "      <td>0.872847</td>\n",
              "      <td>0.447032</td>\n",
              "    </tr>\n",
              "    <tr>\n",
              "      <th>1322</th>\n",
              "      <td>0.871390</td>\n",
              "      <td>0.442720</td>\n",
              "    </tr>\n",
              "    <tr>\n",
              "      <th>1323</th>\n",
              "      <td>0.475039</td>\n",
              "      <td>0.000000</td>\n",
              "    </tr>\n",
              "  </tbody>\n",
              "</table>\n",
              "<p>1324 rows × 2 columns</p>\n",
              "</div>"
            ],
            "text/plain": [
              "         value     total\n",
              "0     0.492525  1.004743\n",
              "1     2.603969  5.000719\n",
              "2     1.244426  2.929424\n",
              "3     0.856818  2.577260\n",
              "4     0.594527  2.148915\n",
              "...        ...       ...\n",
              "1319  1.054994  0.878252\n",
              "1320  0.802903  0.424033\n",
              "1321  0.872847  0.447032\n",
              "1322  0.871390  0.442720\n",
              "1323  0.475039  0.000000\n",
              "\n",
              "[1324 rows x 2 columns]"
            ]
          },
          "metadata": {
            "tags": []
          },
          "execution_count": 37
        }
      ]
    },
    {
      "cell_type": "markdown",
      "metadata": {
        "id": "dR6fSCDwij5M"
      },
      "source": [
        "Burst Detection Function: burst_detection(r,d,len(r),s,d,smooth_win)\n",
        "\n",
        "* r = number of events of interested\n",
        "* d = number of all events\n",
        "* s = distance between normal state and a burst state\n",
        "* g = cost to move from normal state to a burst state.\n",
        "* smooth_win = smoothing windows\n",
        "\n"
      ]
    },
    {
      "cell_type": "code",
      "metadata": {
        "id": "EWZQ3U0Oij5N",
        "outputId": "16515f40-da5c-4bf3-8d7a-6e657380e547",
        "colab": {
          "base_uri": "https://localhost:8080/",
          "height": 337
        }
      },
      "source": [
        "[q, _, _, p] = bd.burst_detection(r.astype(np.double),d.astype(np.double),len(r),2,1,smooth_win=3)\n",
        "bursts = bd.enumerate_bursts(q, 's='+str(3)+', g='+str(1))\n",
        "bursts = bd.burst_weights(bursts, r, d, p)"
      ],
      "execution_count": 38,
      "outputs": [
        {
          "output_type": "error",
          "ename": "TypeError",
          "evalue": "ignored",
          "traceback": [
            "\u001b[0;31m---------------------------------------------------------------------------\u001b[0m",
            "\u001b[0;31mTypeError\u001b[0m                                 Traceback (most recent call last)",
            "\u001b[0;32m<ipython-input-38-e93a11c9fec9>\u001b[0m in \u001b[0;36m<module>\u001b[0;34m()\u001b[0m\n\u001b[0;32m----> 1\u001b[0;31m \u001b[0;34m[\u001b[0m\u001b[0mq\u001b[0m\u001b[0;34m,\u001b[0m \u001b[0m_\u001b[0m\u001b[0;34m,\u001b[0m \u001b[0m_\u001b[0m\u001b[0;34m,\u001b[0m \u001b[0mp\u001b[0m\u001b[0;34m]\u001b[0m \u001b[0;34m=\u001b[0m \u001b[0mbd\u001b[0m\u001b[0;34m.\u001b[0m\u001b[0mburst_detection\u001b[0m\u001b[0;34m(\u001b[0m\u001b[0mr\u001b[0m\u001b[0;34m.\u001b[0m\u001b[0mastype\u001b[0m\u001b[0;34m(\u001b[0m\u001b[0mnp\u001b[0m\u001b[0;34m.\u001b[0m\u001b[0mdouble\u001b[0m\u001b[0;34m)\u001b[0m\u001b[0;34m,\u001b[0m\u001b[0md\u001b[0m\u001b[0;34m.\u001b[0m\u001b[0mastype\u001b[0m\u001b[0;34m(\u001b[0m\u001b[0mnp\u001b[0m\u001b[0;34m.\u001b[0m\u001b[0mdouble\u001b[0m\u001b[0;34m)\u001b[0m\u001b[0;34m,\u001b[0m\u001b[0mlen\u001b[0m\u001b[0;34m(\u001b[0m\u001b[0mr\u001b[0m\u001b[0;34m)\u001b[0m\u001b[0;34m,\u001b[0m\u001b[0;36m2\u001b[0m\u001b[0;34m,\u001b[0m\u001b[0;36m1\u001b[0m\u001b[0;34m,\u001b[0m\u001b[0msmooth_win\u001b[0m\u001b[0;34m=\u001b[0m\u001b[0;36m3\u001b[0m\u001b[0;34m)\u001b[0m\u001b[0;34m\u001b[0m\u001b[0;34m\u001b[0m\u001b[0m\n\u001b[0m\u001b[1;32m      2\u001b[0m \u001b[0mbursts\u001b[0m \u001b[0;34m=\u001b[0m \u001b[0mbd\u001b[0m\u001b[0;34m.\u001b[0m\u001b[0menumerate_bursts\u001b[0m\u001b[0;34m(\u001b[0m\u001b[0mq\u001b[0m\u001b[0;34m,\u001b[0m \u001b[0;34m's='\u001b[0m\u001b[0;34m+\u001b[0m\u001b[0mstr\u001b[0m\u001b[0;34m(\u001b[0m\u001b[0;36m3\u001b[0m\u001b[0;34m)\u001b[0m\u001b[0;34m+\u001b[0m\u001b[0;34m', g='\u001b[0m\u001b[0;34m+\u001b[0m\u001b[0mstr\u001b[0m\u001b[0;34m(\u001b[0m\u001b[0;36m1\u001b[0m\u001b[0;34m)\u001b[0m\u001b[0;34m)\u001b[0m\u001b[0;34m\u001b[0m\u001b[0;34m\u001b[0m\u001b[0m\n\u001b[1;32m      3\u001b[0m \u001b[0mbursts\u001b[0m \u001b[0;34m=\u001b[0m \u001b[0mbd\u001b[0m\u001b[0;34m.\u001b[0m\u001b[0mburst_weights\u001b[0m\u001b[0;34m(\u001b[0m\u001b[0mbursts\u001b[0m\u001b[0;34m,\u001b[0m \u001b[0mr\u001b[0m\u001b[0;34m,\u001b[0m \u001b[0md\u001b[0m\u001b[0;34m,\u001b[0m \u001b[0mp\u001b[0m\u001b[0;34m)\u001b[0m\u001b[0;34m\u001b[0m\u001b[0;34m\u001b[0m\u001b[0m\n",
            "\u001b[0;32m/usr/local/lib/python3.6/dist-packages/burst_detection/__init__.py\u001b[0m in \u001b[0;36mburst_detection\u001b[0;34m(r, d, n, s, gamma, smooth_win)\u001b[0m\n\u001b[1;32m     75\u001b[0m             \u001b[0;31m#for all other timepoints, calculate the fit and transition cost\u001b[0m\u001b[0;34m\u001b[0m\u001b[0;34m\u001b[0m\u001b[0;34m\u001b[0m\u001b[0m\n\u001b[1;32m     76\u001b[0m             \u001b[0;32melse\u001b[0m\u001b[0;34m:\u001b[0m\u001b[0;34m\u001b[0m\u001b[0;34m\u001b[0m\u001b[0m\n\u001b[0;32m---> 77\u001b[0;31m                 \u001b[0mcost\u001b[0m\u001b[0;34m[\u001b[0m\u001b[0mt\u001b[0m\u001b[0;34m,\u001b[0m\u001b[0mj\u001b[0m\u001b[0;34m]\u001b[0m \u001b[0;34m=\u001b[0m \u001b[0mtau\u001b[0m\u001b[0;34m(\u001b[0m\u001b[0mq\u001b[0m\u001b[0;34m[\u001b[0m\u001b[0mt\u001b[0m\u001b[0;34m-\u001b[0m\u001b[0;36m1\u001b[0m\u001b[0;34m]\u001b[0m\u001b[0;34m,\u001b[0m\u001b[0mj\u001b[0m\u001b[0;34m,\u001b[0m\u001b[0mgamma\u001b[0m\u001b[0;34m,\u001b[0m\u001b[0mreal_n\u001b[0m\u001b[0;34m)\u001b[0m \u001b[0;34m+\u001b[0m \u001b[0mfit\u001b[0m\u001b[0;34m(\u001b[0m\u001b[0md\u001b[0m\u001b[0;34m[\u001b[0m\u001b[0mt\u001b[0m\u001b[0;34m]\u001b[0m\u001b[0;34m,\u001b[0m\u001b[0mr\u001b[0m\u001b[0;34m[\u001b[0m\u001b[0mt\u001b[0m\u001b[0;34m]\u001b[0m\u001b[0;34m,\u001b[0m\u001b[0mp\u001b[0m\u001b[0;34m[\u001b[0m\u001b[0mj\u001b[0m\u001b[0;34m]\u001b[0m\u001b[0;34m)\u001b[0m\u001b[0;34m\u001b[0m\u001b[0;34m\u001b[0m\u001b[0m\n\u001b[0m\u001b[1;32m     78\u001b[0m \u001b[0;34m\u001b[0m\u001b[0m\n\u001b[1;32m     79\u001b[0m         \u001b[0;31m#add the state with the minimum cost to the optimal state sequence\u001b[0m\u001b[0;34m\u001b[0m\u001b[0;34m\u001b[0m\u001b[0;34m\u001b[0m\u001b[0m\n",
            "\u001b[0;32m/usr/local/lib/python3.6/dist-packages/burst_detection/__init__.py\u001b[0m in \u001b[0;36mfit\u001b[0;34m(d, r, p)\u001b[0m\n\u001b[1;32m     26\u001b[0m \u001b[0;31m#    p: expected proportions of each state (1xk)\u001b[0m\u001b[0;34m\u001b[0m\u001b[0;34m\u001b[0m\u001b[0;34m\u001b[0m\u001b[0m\n\u001b[1;32m     27\u001b[0m \u001b[0;32mdef\u001b[0m \u001b[0mfit\u001b[0m\u001b[0;34m(\u001b[0m\u001b[0md\u001b[0m\u001b[0;34m,\u001b[0m\u001b[0mr\u001b[0m\u001b[0;34m,\u001b[0m\u001b[0mp\u001b[0m\u001b[0;34m)\u001b[0m\u001b[0;34m:\u001b[0m\u001b[0;34m\u001b[0m\u001b[0;34m\u001b[0m\u001b[0m\n\u001b[0;32m---> 28\u001b[0;31m     \u001b[0;32mreturn\u001b[0m \u001b[0;34m-\u001b[0m\u001b[0mnp\u001b[0m\u001b[0;34m.\u001b[0m\u001b[0mfloat\u001b[0m\u001b[0;34m(\u001b[0m\u001b[0;34m(\u001b[0m\u001b[0mlog\u001b[0m\u001b[0;34m(\u001b[0m\u001b[0mbinomial\u001b[0m\u001b[0;34m(\u001b[0m\u001b[0mint\u001b[0m\u001b[0;34m(\u001b[0m\u001b[0md\u001b[0m\u001b[0;34m)\u001b[0m\u001b[0;34m,\u001b[0m\u001b[0mr\u001b[0m\u001b[0;34m)\u001b[0m\u001b[0;34m)\u001b[0m \u001b[0;34m+\u001b[0m \u001b[0mr\u001b[0m\u001b[0;34m*\u001b[0m\u001b[0mnp\u001b[0m\u001b[0;34m.\u001b[0m\u001b[0mlog\u001b[0m\u001b[0;34m(\u001b[0m\u001b[0mp\u001b[0m\u001b[0;34m)\u001b[0m \u001b[0;34m+\u001b[0m \u001b[0;34m(\u001b[0m\u001b[0md\u001b[0m\u001b[0;34m-\u001b[0m\u001b[0mr\u001b[0m\u001b[0;34m)\u001b[0m\u001b[0;34m*\u001b[0m\u001b[0mnp\u001b[0m\u001b[0;34m.\u001b[0m\u001b[0mlog\u001b[0m\u001b[0;34m(\u001b[0m\u001b[0;36m1\u001b[0m\u001b[0;34m-\u001b[0m\u001b[0mp\u001b[0m\u001b[0;34m)\u001b[0m\u001b[0;34m)\u001b[0m\u001b[0;34m)\u001b[0m\u001b[0;34m\u001b[0m\u001b[0;34m\u001b[0m\u001b[0m\n\u001b[0m\u001b[1;32m     29\u001b[0m \u001b[0;34m\u001b[0m\u001b[0m\n\u001b[1;32m     30\u001b[0m \u001b[0;31m#define the burst detection function for a two-state automaton\u001b[0m\u001b[0;34m\u001b[0m\u001b[0;34m\u001b[0m\u001b[0;34m\u001b[0m\u001b[0m\n",
            "\u001b[0;31mTypeError\u001b[0m: float() argument must be a string or a number, not 'mpc'"
          ]
        }
      ]
    },
    {
      "cell_type": "code",
      "metadata": {
        "id": "AUS4Pa1Fij5O",
        "outputId": "691c9dda-6969-407c-f3c7-a9e250b35832",
        "colab": {
          "base_uri": "https://localhost:8080/",
          "height": 229
        }
      },
      "source": [
        "data_r = pd.DataFrame({'day':range(len(r)),'data':r,'total':d,'outlier':AnomaliesData_Start['outlier']})\n",
        "data_r['Prediction'] = 0\n",
        "for index, row in bursts.iterrows():\n",
        "    data_r['Prediction'] = np.where(data_r['day']>=row.begin,np.where(data_r['day']<=row.end,1,data_r['Prediction']), data_r['Prediction'])"
      ],
      "execution_count": 39,
      "outputs": [
        {
          "output_type": "error",
          "ename": "NameError",
          "evalue": "ignored",
          "traceback": [
            "\u001b[0;31m---------------------------------------------------------------------------\u001b[0m",
            "\u001b[0;31mNameError\u001b[0m                                 Traceback (most recent call last)",
            "\u001b[0;32m<ipython-input-39-b7c2a8296796>\u001b[0m in \u001b[0;36m<module>\u001b[0;34m()\u001b[0m\n\u001b[1;32m      1\u001b[0m \u001b[0mdata_r\u001b[0m \u001b[0;34m=\u001b[0m \u001b[0mpd\u001b[0m\u001b[0;34m.\u001b[0m\u001b[0mDataFrame\u001b[0m\u001b[0;34m(\u001b[0m\u001b[0;34m{\u001b[0m\u001b[0;34m'day'\u001b[0m\u001b[0;34m:\u001b[0m\u001b[0mrange\u001b[0m\u001b[0;34m(\u001b[0m\u001b[0mlen\u001b[0m\u001b[0;34m(\u001b[0m\u001b[0mr\u001b[0m\u001b[0;34m)\u001b[0m\u001b[0;34m)\u001b[0m\u001b[0;34m,\u001b[0m\u001b[0;34m'data'\u001b[0m\u001b[0;34m:\u001b[0m\u001b[0mr\u001b[0m\u001b[0;34m,\u001b[0m\u001b[0;34m'total'\u001b[0m\u001b[0;34m:\u001b[0m\u001b[0md\u001b[0m\u001b[0;34m,\u001b[0m\u001b[0;34m'outlier'\u001b[0m\u001b[0;34m:\u001b[0m\u001b[0mAnomaliesData_Start\u001b[0m\u001b[0;34m[\u001b[0m\u001b[0;34m'outlier'\u001b[0m\u001b[0;34m]\u001b[0m\u001b[0;34m}\u001b[0m\u001b[0;34m)\u001b[0m\u001b[0;34m\u001b[0m\u001b[0;34m\u001b[0m\u001b[0m\n\u001b[1;32m      2\u001b[0m \u001b[0mdata_r\u001b[0m\u001b[0;34m[\u001b[0m\u001b[0;34m'Prediction'\u001b[0m\u001b[0;34m]\u001b[0m \u001b[0;34m=\u001b[0m \u001b[0;36m0\u001b[0m\u001b[0;34m\u001b[0m\u001b[0;34m\u001b[0m\u001b[0m\n\u001b[0;32m----> 3\u001b[0;31m \u001b[0;32mfor\u001b[0m \u001b[0mindex\u001b[0m\u001b[0;34m,\u001b[0m \u001b[0mrow\u001b[0m \u001b[0;32min\u001b[0m \u001b[0mbursts\u001b[0m\u001b[0;34m.\u001b[0m\u001b[0miterrows\u001b[0m\u001b[0;34m(\u001b[0m\u001b[0;34m)\u001b[0m\u001b[0;34m:\u001b[0m\u001b[0;34m\u001b[0m\u001b[0;34m\u001b[0m\u001b[0m\n\u001b[0m\u001b[1;32m      4\u001b[0m     \u001b[0mdata_r\u001b[0m\u001b[0;34m[\u001b[0m\u001b[0;34m'Prediction'\u001b[0m\u001b[0;34m]\u001b[0m \u001b[0;34m=\u001b[0m \u001b[0mnp\u001b[0m\u001b[0;34m.\u001b[0m\u001b[0mwhere\u001b[0m\u001b[0;34m(\u001b[0m\u001b[0mdata_r\u001b[0m\u001b[0;34m[\u001b[0m\u001b[0;34m'day'\u001b[0m\u001b[0;34m]\u001b[0m\u001b[0;34m>=\u001b[0m\u001b[0mrow\u001b[0m\u001b[0;34m.\u001b[0m\u001b[0mbegin\u001b[0m\u001b[0;34m,\u001b[0m\u001b[0mnp\u001b[0m\u001b[0;34m.\u001b[0m\u001b[0mwhere\u001b[0m\u001b[0;34m(\u001b[0m\u001b[0mdata_r\u001b[0m\u001b[0;34m[\u001b[0m\u001b[0;34m'day'\u001b[0m\u001b[0;34m]\u001b[0m\u001b[0;34m<=\u001b[0m\u001b[0mrow\u001b[0m\u001b[0;34m.\u001b[0m\u001b[0mend\u001b[0m\u001b[0;34m,\u001b[0m\u001b[0;36m1\u001b[0m\u001b[0;34m,\u001b[0m\u001b[0mdata_r\u001b[0m\u001b[0;34m[\u001b[0m\u001b[0;34m'Prediction'\u001b[0m\u001b[0;34m]\u001b[0m\u001b[0;34m)\u001b[0m\u001b[0;34m,\u001b[0m \u001b[0mdata_r\u001b[0m\u001b[0;34m[\u001b[0m\u001b[0;34m'Prediction'\u001b[0m\u001b[0;34m]\u001b[0m\u001b[0;34m)\u001b[0m\u001b[0;34m\u001b[0m\u001b[0;34m\u001b[0m\u001b[0m\n",
            "\u001b[0;31mNameError\u001b[0m: name 'bursts' is not defined"
          ]
        }
      ]
    },
    {
      "cell_type": "code",
      "metadata": {
        "id": "_PRy1cUnij5R",
        "outputId": "0e3114c1-0c93-4c5d-96b3-fac095c08d88",
        "colab": {
          "base_uri": "https://localhost:8080/",
          "height": 461
        }
      },
      "source": [
        "ggplot(data_r, aes(x='day',y='data'))+ geom_line()+ theme(\n",
        "  axis_text_x = element_text(size = 5.5,angle = 90, hjust = 20, vjust = -400)\n",
        ")+geom_point(data_r[(data_r['outlier']==1)],aes(x='day',y='data'), color='red',shape = 7)+geom_point(data_r[(data_r['Prediction']==1)],aes(x='day',y='data'), color='blue',shape = 6)"
      ],
      "execution_count": 40,
      "outputs": [
        {
          "output_type": "display_data",
          "data": {
            "image/png": "[encoded data removed]",
            "text/plain": [
              "<Figure size 640x480 with 1 Axes>"
            ]
          },
          "metadata": {
            "tags": []
          }
        },
        {
          "output_type": "execute_result",
          "data": {
            "text/plain": [
              "<ggplot: (8741553647203)>"
            ]
          },
          "metadata": {
            "tags": []
          },
          "execution_count": 40
        }
      ]
    },
    {
      "cell_type": "markdown",
      "metadata": {
        "id": "DkLhV6epij5S"
      },
      "source": [
        "The strength, or weight, of a burst (that begins at time point t1 and ends at time point t2) can be estimated with the following function:"
      ]
    },
    {
      "cell_type": "code",
      "metadata": {
        "id": "8nXbGldNij5T"
      },
      "source": [
        "def plot_burst_timeline(bursts, timepoints):\n",
        "    \n",
        "    f, ax = plt.subplots(figsize=(8, 0.5))\n",
        "    ax.set(xlim=(0, timepoints), ylabel=\"\", xlabel=\"\")\n",
        "\n",
        "    #create boxes around bursting periods\n",
        "    for index, burst in bursts.iterrows():\n",
        "\n",
        "        #define outline positions\n",
        "        y = 0.25\n",
        "        xstart = burst['begin'] -1 \n",
        "        width = burst['end'] - burst['begin'] +1\n",
        "\n",
        "        ax.add_patch(Rectangle((xstart,y), width, height=0.5, \n",
        "                               facecolor='#00bbcc', edgecolor='none', linewidth=1))\n",
        "\n",
        "    ax.xaxis.set_visible(False)\n",
        "\n",
        "    plt.axhline(0.5, linewidth=1, color='k', alpha=1, zorder=0.5)\n",
        "    plt.show()"
      ],
      "execution_count": 41,
      "outputs": []
    },
    {
      "cell_type": "code",
      "metadata": {
        "id": "1yWHg5w1ij5V",
        "outputId": "1e27e54f-e09a-45d4-8408-c72352364e88",
        "colab": {
          "base_uri": "https://localhost:8080/",
          "height": 162
        }
      },
      "source": [
        "plot_burst_timeline(bursts, len(r))"
      ],
      "execution_count": 42,
      "outputs": [
        {
          "output_type": "error",
          "ename": "NameError",
          "evalue": "ignored",
          "traceback": [
            "\u001b[0;31m---------------------------------------------------------------------------\u001b[0m",
            "\u001b[0;31mNameError\u001b[0m                                 Traceback (most recent call last)",
            "\u001b[0;32m<ipython-input-42-c5b06fda5b20>\u001b[0m in \u001b[0;36m<module>\u001b[0;34m()\u001b[0m\n\u001b[0;32m----> 1\u001b[0;31m \u001b[0mplot_burst_timeline\u001b[0m\u001b[0;34m(\u001b[0m\u001b[0mbursts\u001b[0m\u001b[0;34m,\u001b[0m \u001b[0mlen\u001b[0m\u001b[0;34m(\u001b[0m\u001b[0mr\u001b[0m\u001b[0;34m)\u001b[0m\u001b[0;34m)\u001b[0m\u001b[0;34m\u001b[0m\u001b[0;34m\u001b[0m\u001b[0m\n\u001b[0m",
            "\u001b[0;31mNameError\u001b[0m: name 'bursts' is not defined"
          ]
        }
      ]
    },
    {
      "cell_type": "markdown",
      "metadata": {
        "id": "0ncyQmT8ij5X"
      },
      "source": [
        "# Finding the Pattern - CNN Autoencoders "
      ]
    },
    {
      "cell_type": "markdown",
      "metadata": {
        "id": "ERS_3vEHij5X"
      },
      "source": [
        "Last, but by no mean least. There might be some situation where you lack understanding of the data to be able to correctly estimated boundary or level of energy for either forecasting or burst detection.\n",
        "\n",
        "Essentially, Autoencoder try to reconstruct the data based on what is learn before. If the autoencoder is good enough, it should be able to generalized to most situation and retain most of the standard information of time-series."
      ]
    },
    {
      "cell_type": "code",
      "metadata": {
        "id": "BfSITs2Uij5X"
      },
      "source": [
        "import time\n",
        "import numpy as np\n",
        "import torch\n",
        "import torch.nn.functional as F\n",
        "from torchvision import datasets\n",
        "from torchvision import transforms\n",
        "from torch.utils.data import DataLoader\n",
        "from sklearn.model_selection import train_test_split\n",
        "\n",
        "if torch.cuda.is_available():\n",
        "    torch.backends.cudnn.deterministic = True\n",
        "    \n",
        "def get_value_from_df(df):\n",
        "    return df.value.to_list()\n",
        "\n",
        "def normalize(values,mean=None,std=None):\n",
        "    if mean is None:\n",
        "        mean = np.mean(values)\n",
        "    values -= mean\n",
        "    if std is None:\n",
        "        std = np.std(values)\n",
        "    values /= std\n",
        "    return values, mean, std\n",
        "\n",
        "def create_sequences(values, time_steps=24):\n",
        "    output = []\n",
        "    for i in range(len(values) - time_steps):\n",
        "        output.append(values[i : (i + time_steps)])\n",
        "    # Convert 2D sequences into 3D as we will be feeding this into\n",
        "    # a convolutional layer.\n",
        "    return np.expand_dims(output, axis=2)"
      ],
      "execution_count": 44,
      "outputs": []
    },
    {
      "cell_type": "markdown",
      "metadata": {
        "id": "NFMMYLQYij5Z"
      },
      "source": [
        "Using the same data and splitting into test and train, we then decided to use 24 hours of data for each autoencoders. Hence, 24 timesteps."
      ]
    },
    {
      "cell_type": "code",
      "metadata": {
        "id": "j-OFBABjij5a"
      },
      "source": [
        "Autoencoder_Data = df[df['key']=='AAPL']"
      ],
      "execution_count": 45,
      "outputs": []
    },
    {
      "cell_type": "code",
      "metadata": {
        "id": "4eBbvpxXij5d"
      },
      "source": [
        "# Get the `value` column from the training dataframe.\n",
        "training_value = get_value_from_df(Autoencoder_Data)\n",
        "# Normalize `value` and save the mean and std we get\n",
        "training_value, training_mean, training_std = normalize(training_value)\n",
        "TIME_STEPS = 24\n",
        "batch_size = 128\n",
        "train = create_sequences(training_value,24)"
      ],
      "execution_count": 46,
      "outputs": []
    },
    {
      "cell_type": "code",
      "metadata": {
        "id": "jlQVVnOTij5f"
      },
      "source": [
        "train, test = (train[0:1000,:,:], train[1000:,:,:])"
      ],
      "execution_count": 47,
      "outputs": []
    },
    {
      "cell_type": "code",
      "metadata": {
        "id": "wqgbAEFmij5h",
        "outputId": "9dffdb2e-9433-4cb1-ca8a-d66d05208fb2",
        "colab": {
          "base_uri": "https://localhost:8080/"
        }
      },
      "source": [
        "X_train = torch.FloatTensor([train]).cuda().reshape(-1, 24, 1)\n",
        "X_test = torch.FloatTensor([test]).cuda().reshape(-1, 24, 1)\n",
        "print(\"training input shape: \", X_train.shape)\n",
        "print(\"testing input shape: \", X_test.shape)"
      ],
      "execution_count": 48,
      "outputs": [
        {
          "output_type": "stream",
          "text": [
            "training input shape:  torch.Size([1000, 24, 1])\n",
            "testing input shape:  torch.Size([300, 24, 1])\n"
          ],
          "name": "stdout"
        }
      ]
    },
    {
      "cell_type": "code",
      "metadata": {
        "id": "Q9HJ-wXAij5k"
      },
      "source": [
        "train_loader = DataLoader(dataset=X_train, \n",
        "                          batch_size=batch_size, \n",
        "                          shuffle=True)\n",
        "\n",
        "test_loader = DataLoader(dataset=X_test, \n",
        "                         batch_size=batch_size, \n",
        "                         shuffle=False)"
      ],
      "execution_count": 49,
      "outputs": []
    },
    {
      "cell_type": "code",
      "metadata": {
        "id": "1wWeovtKij5m",
        "outputId": "2859789b-a4a9-4a67-a77b-0a6bf8b367b9",
        "colab": {
          "base_uri": "https://localhost:8080/"
        }
      },
      "source": [
        "##########################\n",
        "### SETTINGS\n",
        "##########################\n",
        "\n",
        "# Device\n",
        "device = torch.device(\"cuda:0\" if torch.cuda.is_available() else \"cpu\")\n",
        "print('Device:', device)\n",
        "\n",
        "# Hyperparameters\n",
        "learning_rate = 0.001\n",
        "num_epochs = 50"
      ],
      "execution_count": 50,
      "outputs": [
        {
          "output_type": "stream",
          "text": [
            "Device: cuda:0\n"
          ],
          "name": "stdout"
        }
      ]
    },
    {
      "cell_type": "markdown",
      "metadata": {
        "id": "zUlXYUgzij5p"
      },
      "source": [
        "Autoencoder model is created here. The model will take input and return output of the same shape."
      ]
    },
    {
      "cell_type": "code",
      "metadata": {
        "id": "SxmKz2obij5r"
      },
      "source": [
        "class ConvolutionalAutoencoder(torch.nn.Module):\n",
        "\n",
        "    def __init__(self):\n",
        "        super(ConvolutionalAutoencoder, self).__init__()\n",
        "        \n",
        "\n",
        "        ### ENCODER\n",
        "        self.conv_1 = torch.nn.Conv1d(in_channels=1,\n",
        "                                      out_channels=32,\n",
        "                                      kernel_size=7,\n",
        "                                      stride=2,\n",
        "                                      padding=1)        \n",
        "        self.dropout_1 = torch.nn.Dropout(p=0.2)                                 \n",
        "        self.conv_2 = torch.nn.Conv1d(in_channels=32,\n",
        "                                      out_channels=16,\n",
        "                                      kernel_size=7,\n",
        "                                      stride=2,\n",
        "                                      padding=1)                 \n",
        "        self.dropout_2 = torch.nn.Dropout(p=0.2)       \n",
        "\n",
        "        ### DECODER                       \n",
        "        self.deconv_1 = torch.nn.ConvTranspose1d(in_channels=16,\n",
        "                                                 out_channels=32,\n",
        "                                                 kernel_size=7,\n",
        "                                                 stride=2,\n",
        "                                                 padding=1)\n",
        "        self.dropout_3 = torch.nn.Dropout(p=0.2)  \n",
        "        self.deconv_2 = torch.nn.ConvTranspose1d(in_channels=32,\n",
        "                                                 out_channels=32,\n",
        "                                                 kernel_size=7,\n",
        "                                                 stride=2,\n",
        "                                                 padding=1)\n",
        "        self.deconv_3 = torch.nn.ConvTranspose1d(in_channels=32,\n",
        "                                                 out_channels=1,\n",
        "                                                 kernel_size=7,\n",
        "                                                 stride=1,\n",
        "                                                 padding=1)\n",
        "        \n",
        "        \n",
        "    def forward(self, x):\n",
        "        ### Input: (batch_size, seq_len, input_size)\n",
        "        ### ENCODER\n",
        "        batch_size = x.size()[0]\n",
        "        seq_length = x.size()[1]\n",
        "        x = x.view(batch_size,1,seq_length)\n",
        "        x = self.conv_1(x)\n",
        "        x = F.relu(x)\n",
        "        x = self.dropout_1(x)\n",
        "        x = self.conv_2(x)\n",
        "        x = F.relu(x)\n",
        "        x = self.dropout_2(x)\n",
        "        \n",
        "        ### DECODER\n",
        "        x = self.deconv_1(x)\n",
        "        x = F.relu(x)\n",
        "        x = self.dropout_3(x)\n",
        "        x = self.deconv_2(x)\n",
        "        x = F.relu(x)\n",
        "        x = self.deconv_3(x)\n",
        "        x = x[:,:,:seq_length]\n",
        "        x = x.view(batch_size,seq_length,1)\n",
        "        return x\n",
        "\n",
        "    \n",
        "# torch.manual_seed(random_seed)\n",
        "model = ConvolutionalAutoencoder()\n",
        "model = model.to(device)\n",
        "\n",
        "optimizer = torch.optim.Adam(model.parameters(), lr=learning_rate)  "
      ],
      "execution_count": 51,
      "outputs": []
    },
    {
      "cell_type": "code",
      "metadata": {
        "id": "hG1cOzCCij5s",
        "outputId": "055f7bdd-7b34-453b-8462-9069adc7a9ed",
        "colab": {
          "base_uri": "https://localhost:8080/"
        }
      },
      "source": [
        "model"
      ],
      "execution_count": 52,
      "outputs": [
        {
          "output_type": "execute_result",
          "data": {
            "text/plain": [
              "ConvolutionalAutoencoder(\n",
              "  (conv_1): Conv1d(1, 32, kernel_size=(7,), stride=(2,), padding=(1,))\n",
              "  (dropout_1): Dropout(p=0.2, inplace=False)\n",
              "  (conv_2): Conv1d(32, 16, kernel_size=(7,), stride=(2,), padding=(1,))\n",
              "  (dropout_2): Dropout(p=0.2, inplace=False)\n",
              "  (deconv_1): ConvTranspose1d(16, 32, kernel_size=(7,), stride=(2,), padding=(1,))\n",
              "  (dropout_3): Dropout(p=0.2, inplace=False)\n",
              "  (deconv_2): ConvTranspose1d(32, 32, kernel_size=(7,), stride=(2,), padding=(1,))\n",
              "  (deconv_3): ConvTranspose1d(32, 1, kernel_size=(7,), stride=(1,), padding=(1,))\n",
              ")"
            ]
          },
          "metadata": {
            "tags": []
          },
          "execution_count": 52
        }
      ]
    },
    {
      "cell_type": "markdown",
      "metadata": {
        "id": "vKhTMUaBij5v"
      },
      "source": [
        "Train the model."
      ]
    },
    {
      "cell_type": "code",
      "metadata": {
        "id": "K1IoG5KOij5v",
        "outputId": "3cf01710-920c-4cf2-c5a7-b4277bdd959f",
        "colab": {
          "base_uri": "https://localhost:8080/"
        }
      },
      "source": [
        "start_time = time.time()\n",
        "for epoch in range(num_epochs):\n",
        "    for batch_idx, (features) in enumerate(train_loader):\n",
        "        \n",
        "        # don't need labels, only the images (features)\n",
        "        features = features.to(device)\n",
        "\n",
        "        ### FORWARD AND BACK PROP\n",
        "        logits = model(features)\n",
        "        cost = F.mse_loss(logits, features)\n",
        "        optimizer.zero_grad()\n",
        "        \n",
        "        cost.backward()\n",
        "        \n",
        "        ### UPDATE MODEL PARAMETERS\n",
        "        optimizer.step()\n",
        "        \n",
        "        ### LOGGING\n",
        "        if not batch_idx % 2:\n",
        "            print ('Epoch: %03d/%03d | Batch %03d/%03d | Cost: %.4f' \n",
        "                   %(epoch+1, num_epochs, batch_idx, \n",
        "                     len(X_train)//batch_size, cost))\n",
        "            \n",
        "    print('Time elapsed: %.2f min' % ((time.time() - start_time)/60))\n",
        "    \n",
        "print('Total Training Time: %.2f min' % ((time.time() - start_time)/60))"
      ],
      "execution_count": 53,
      "outputs": [
        {
          "output_type": "stream",
          "text": [
            "Epoch: 001/050 | Batch 000/007 | Cost: 0.5895\n",
            "Epoch: 001/050 | Batch 002/007 | Cost: 0.8206\n",
            "Epoch: 001/050 | Batch 004/007 | Cost: 0.7364\n",
            "Epoch: 001/050 | Batch 006/007 | Cost: 1.1265\n",
            "Time elapsed: 0.00 min\n",
            "Epoch: 002/050 | Batch 000/007 | Cost: 1.2906\n",
            "Epoch: 002/050 | Batch 002/007 | Cost: 0.9408\n",
            "Epoch: 002/050 | Batch 004/007 | Cost: 0.6455\n",
            "Epoch: 002/050 | Batch 006/007 | Cost: 0.5783\n",
            "Time elapsed: 0.00 min\n",
            "Epoch: 003/050 | Batch 000/007 | Cost: 0.9147\n",
            "Epoch: 003/050 | Batch 002/007 | Cost: 0.7560\n",
            "Epoch: 003/050 | Batch 004/007 | Cost: 0.4499\n",
            "Epoch: 003/050 | Batch 006/007 | Cost: 0.2571\n",
            "Time elapsed: 0.00 min\n",
            "Epoch: 004/050 | Batch 000/007 | Cost: 0.8695\n",
            "Epoch: 004/050 | Batch 002/007 | Cost: 1.2510\n",
            "Epoch: 004/050 | Batch 004/007 | Cost: 0.3756\n",
            "Epoch: 004/050 | Batch 006/007 | Cost: 0.4133\n",
            "Time elapsed: 0.00 min\n",
            "Epoch: 005/050 | Batch 000/007 | Cost: 0.5142\n",
            "Epoch: 005/050 | Batch 002/007 | Cost: 0.3001\n",
            "Epoch: 005/050 | Batch 004/007 | Cost: 0.6757\n",
            "Epoch: 005/050 | Batch 006/007 | Cost: 0.1566\n",
            "Time elapsed: 0.01 min\n",
            "Epoch: 006/050 | Batch 000/007 | Cost: 0.1407\n",
            "Epoch: 006/050 | Batch 002/007 | Cost: 0.4347\n",
            "Epoch: 006/050 | Batch 004/007 | Cost: 0.3236\n",
            "Epoch: 006/050 | Batch 006/007 | Cost: 0.4677\n",
            "Time elapsed: 0.01 min\n",
            "Epoch: 007/050 | Batch 000/007 | Cost: 0.1312\n",
            "Epoch: 007/050 | Batch 002/007 | Cost: 0.1915\n",
            "Epoch: 007/050 | Batch 004/007 | Cost: 0.5948\n",
            "Epoch: 007/050 | Batch 006/007 | Cost: 0.6745\n",
            "Time elapsed: 0.01 min\n",
            "Epoch: 008/050 | Batch 000/007 | Cost: 0.4870\n",
            "Epoch: 008/050 | Batch 002/007 | Cost: 0.2979\n",
            "Epoch: 008/050 | Batch 004/007 | Cost: 0.2735\n",
            "Epoch: 008/050 | Batch 006/007 | Cost: 0.7213\n",
            "Time elapsed: 0.01 min\n",
            "Epoch: 009/050 | Batch 000/007 | Cost: 0.3895\n",
            "Epoch: 009/050 | Batch 002/007 | Cost: 0.7351\n",
            "Epoch: 009/050 | Batch 004/007 | Cost: 0.3892\n",
            "Epoch: 009/050 | Batch 006/007 | Cost: 0.3284\n",
            "Time elapsed: 0.01 min\n",
            "Epoch: 010/050 | Batch 000/007 | Cost: 0.3606\n",
            "Epoch: 010/050 | Batch 002/007 | Cost: 0.5968\n",
            "Epoch: 010/050 | Batch 004/007 | Cost: 0.4857\n",
            "Epoch: 010/050 | Batch 006/007 | Cost: 0.1141\n",
            "Time elapsed: 0.01 min\n",
            "Epoch: 011/050 | Batch 000/007 | Cost: 0.1538\n",
            "Epoch: 011/050 | Batch 002/007 | Cost: 0.4404\n",
            "Epoch: 011/050 | Batch 004/007 | Cost: 0.3032\n",
            "Epoch: 011/050 | Batch 006/007 | Cost: 0.5131\n",
            "Time elapsed: 0.01 min\n",
            "Epoch: 012/050 | Batch 000/007 | Cost: 0.4536\n",
            "Epoch: 012/050 | Batch 002/007 | Cost: 0.1366\n",
            "Epoch: 012/050 | Batch 004/007 | Cost: 0.6872\n",
            "Epoch: 012/050 | Batch 006/007 | Cost: 0.3522\n",
            "Time elapsed: 0.01 min\n",
            "Epoch: 013/050 | Batch 000/007 | Cost: 0.2465\n",
            "Epoch: 013/050 | Batch 002/007 | Cost: 0.1675\n",
            "Epoch: 013/050 | Batch 004/007 | Cost: 0.6502\n",
            "Epoch: 013/050 | Batch 006/007 | Cost: 0.2742\n",
            "Time elapsed: 0.01 min\n",
            "Epoch: 014/050 | Batch 000/007 | Cost: 0.1333\n",
            "Epoch: 014/050 | Batch 002/007 | Cost: 0.3490\n",
            "Epoch: 014/050 | Batch 004/007 | Cost: 0.4402\n",
            "Epoch: 014/050 | Batch 006/007 | Cost: 0.3707\n",
            "Time elapsed: 0.01 min\n",
            "Epoch: 015/050 | Batch 000/007 | Cost: 0.2573\n",
            "Epoch: 015/050 | Batch 002/007 | Cost: 0.1988\n",
            "Epoch: 015/050 | Batch 004/007 | Cost: 0.3945\n",
            "Epoch: 015/050 | Batch 006/007 | Cost: 0.1953\n",
            "Time elapsed: 0.01 min\n",
            "Epoch: 016/050 | Batch 000/007 | Cost: 0.6428\n",
            "Epoch: 016/050 | Batch 002/007 | Cost: 0.2904\n",
            "Epoch: 016/050 | Batch 004/007 | Cost: 0.1757\n",
            "Epoch: 016/050 | Batch 006/007 | Cost: 0.2870\n",
            "Time elapsed: 0.01 min\n",
            "Epoch: 017/050 | Batch 000/007 | Cost: 0.1926\n",
            "Epoch: 017/050 | Batch 002/007 | Cost: 0.0836\n",
            "Epoch: 017/050 | Batch 004/007 | Cost: 0.3972\n",
            "Epoch: 017/050 | Batch 006/007 | Cost: 0.3916\n",
            "Time elapsed: 0.01 min\n",
            "Epoch: 018/050 | Batch 000/007 | Cost: 0.3823\n",
            "Epoch: 018/050 | Batch 002/007 | Cost: 0.1096\n",
            "Epoch: 018/050 | Batch 004/007 | Cost: 0.1190\n",
            "Epoch: 018/050 | Batch 006/007 | Cost: 0.3332\n",
            "Time elapsed: 0.01 min\n",
            "Epoch: 019/050 | Batch 000/007 | Cost: 0.1541\n",
            "Epoch: 019/050 | Batch 002/007 | Cost: 0.5250\n",
            "Epoch: 019/050 | Batch 004/007 | Cost: 0.2152\n",
            "Epoch: 019/050 | Batch 006/007 | Cost: 0.1144\n",
            "Time elapsed: 0.01 min\n",
            "Epoch: 020/050 | Batch 000/007 | Cost: 0.2777\n",
            "Epoch: 020/050 | Batch 002/007 | Cost: 0.2390\n",
            "Epoch: 020/050 | Batch 004/007 | Cost: 0.0629\n",
            "Epoch: 020/050 | Batch 006/007 | Cost: 0.2435\n",
            "Time elapsed: 0.01 min\n",
            "Epoch: 021/050 | Batch 000/007 | Cost: 0.2546\n",
            "Epoch: 021/050 | Batch 002/007 | Cost: 0.2291\n",
            "Epoch: 021/050 | Batch 004/007 | Cost: 0.1176\n",
            "Epoch: 021/050 | Batch 006/007 | Cost: 0.1325\n",
            "Time elapsed: 0.02 min\n",
            "Epoch: 022/050 | Batch 000/007 | Cost: 0.2503\n",
            "Epoch: 022/050 | Batch 002/007 | Cost: 0.1774\n",
            "Epoch: 022/050 | Batch 004/007 | Cost: 0.1333\n",
            "Epoch: 022/050 | Batch 006/007 | Cost: 0.2213\n",
            "Time elapsed: 0.02 min\n",
            "Epoch: 023/050 | Batch 000/007 | Cost: 0.4709\n",
            "Epoch: 023/050 | Batch 002/007 | Cost: 0.1998\n",
            "Epoch: 023/050 | Batch 004/007 | Cost: 0.3468\n",
            "Epoch: 023/050 | Batch 006/007 | Cost: 0.1975\n",
            "Time elapsed: 0.02 min\n",
            "Epoch: 024/050 | Batch 000/007 | Cost: 0.1254\n",
            "Epoch: 024/050 | Batch 002/007 | Cost: 0.1150\n",
            "Epoch: 024/050 | Batch 004/007 | Cost: 0.1518\n",
            "Epoch: 024/050 | Batch 006/007 | Cost: 0.2207\n",
            "Time elapsed: 0.02 min\n",
            "Epoch: 025/050 | Batch 000/007 | Cost: 0.1985\n",
            "Epoch: 025/050 | Batch 002/007 | Cost: 0.2053\n",
            "Epoch: 025/050 | Batch 004/007 | Cost: 0.1443\n",
            "Epoch: 025/050 | Batch 006/007 | Cost: 0.2086\n",
            "Time elapsed: 0.02 min\n",
            "Epoch: 026/050 | Batch 000/007 | Cost: 0.2140\n",
            "Epoch: 026/050 | Batch 002/007 | Cost: 0.2079\n",
            "Epoch: 026/050 | Batch 004/007 | Cost: 0.2478\n",
            "Epoch: 026/050 | Batch 006/007 | Cost: 0.3053\n",
            "Time elapsed: 0.02 min\n",
            "Epoch: 027/050 | Batch 000/007 | Cost: 0.1889\n",
            "Epoch: 027/050 | Batch 002/007 | Cost: 0.2812\n",
            "Epoch: 027/050 | Batch 004/007 | Cost: 0.1346\n",
            "Epoch: 027/050 | Batch 006/007 | Cost: 0.2333\n",
            "Time elapsed: 0.02 min\n",
            "Epoch: 028/050 | Batch 000/007 | Cost: 0.1193\n",
            "Epoch: 028/050 | Batch 002/007 | Cost: 0.0965\n",
            "Epoch: 028/050 | Batch 004/007 | Cost: 0.3107\n",
            "Epoch: 028/050 | Batch 006/007 | Cost: 0.0626\n",
            "Time elapsed: 0.02 min\n",
            "Epoch: 029/050 | Batch 000/007 | Cost: 0.0856\n",
            "Epoch: 029/050 | Batch 002/007 | Cost: 0.1317\n",
            "Epoch: 029/050 | Batch 004/007 | Cost: 0.2117\n",
            "Epoch: 029/050 | Batch 006/007 | Cost: 0.0673\n",
            "Time elapsed: 0.02 min\n",
            "Epoch: 030/050 | Batch 000/007 | Cost: 0.1807\n",
            "Epoch: 030/050 | Batch 002/007 | Cost: 0.3572\n",
            "Epoch: 030/050 | Batch 004/007 | Cost: 0.0951\n",
            "Epoch: 030/050 | Batch 006/007 | Cost: 0.2889\n",
            "Time elapsed: 0.02 min\n",
            "Epoch: 031/050 | Batch 000/007 | Cost: 0.1270\n",
            "Epoch: 031/050 | Batch 002/007 | Cost: 0.3008\n",
            "Epoch: 031/050 | Batch 004/007 | Cost: 0.1105\n",
            "Epoch: 031/050 | Batch 006/007 | Cost: 0.0692\n",
            "Time elapsed: 0.02 min\n",
            "Epoch: 032/050 | Batch 000/007 | Cost: 0.2155\n",
            "Epoch: 032/050 | Batch 002/007 | Cost: 0.0979\n",
            "Epoch: 032/050 | Batch 004/007 | Cost: 0.0996\n",
            "Epoch: 032/050 | Batch 006/007 | Cost: 0.2643\n",
            "Time elapsed: 0.02 min\n",
            "Epoch: 033/050 | Batch 000/007 | Cost: 0.0909\n",
            "Epoch: 033/050 | Batch 002/007 | Cost: 0.0596\n",
            "Epoch: 033/050 | Batch 004/007 | Cost: 0.1685\n",
            "Epoch: 033/050 | Batch 006/007 | Cost: 0.0483\n",
            "Time elapsed: 0.02 min\n",
            "Epoch: 034/050 | Batch 000/007 | Cost: 0.1529\n",
            "Epoch: 034/050 | Batch 002/007 | Cost: 0.0565\n",
            "Epoch: 034/050 | Batch 004/007 | Cost: 0.2210\n",
            "Epoch: 034/050 | Batch 006/007 | Cost: 0.1061\n",
            "Time elapsed: 0.02 min\n",
            "Epoch: 035/050 | Batch 000/007 | Cost: 0.1822\n",
            "Epoch: 035/050 | Batch 002/007 | Cost: 0.1919\n",
            "Epoch: 035/050 | Batch 004/007 | Cost: 0.2778\n",
            "Epoch: 035/050 | Batch 006/007 | Cost: 0.1126\n",
            "Time elapsed: 0.02 min\n",
            "Epoch: 036/050 | Batch 000/007 | Cost: 0.1621\n",
            "Epoch: 036/050 | Batch 002/007 | Cost: 0.0550\n",
            "Epoch: 036/050 | Batch 004/007 | Cost: 0.0700\n",
            "Epoch: 036/050 | Batch 006/007 | Cost: 0.1620\n",
            "Time elapsed: 0.02 min\n",
            "Epoch: 037/050 | Batch 000/007 | Cost: 0.1352\n",
            "Epoch: 037/050 | Batch 002/007 | Cost: 0.1926\n",
            "Epoch: 037/050 | Batch 004/007 | Cost: 0.2520\n",
            "Epoch: 037/050 | Batch 006/007 | Cost: 0.1961\n",
            "Time elapsed: 0.03 min\n",
            "Epoch: 038/050 | Batch 000/007 | Cost: 0.2337\n",
            "Epoch: 038/050 | Batch 002/007 | Cost: 0.1079\n",
            "Epoch: 038/050 | Batch 004/007 | Cost: 0.1708\n",
            "Epoch: 038/050 | Batch 006/007 | Cost: 0.0828\n",
            "Time elapsed: 0.03 min\n",
            "Epoch: 039/050 | Batch 000/007 | Cost: 0.0760\n",
            "Epoch: 039/050 | Batch 002/007 | Cost: 0.0952\n",
            "Epoch: 039/050 | Batch 004/007 | Cost: 0.2568\n",
            "Epoch: 039/050 | Batch 006/007 | Cost: 0.1014\n",
            "Time elapsed: 0.03 min\n",
            "Epoch: 040/050 | Batch 000/007 | Cost: 0.0814\n",
            "Epoch: 040/050 | Batch 002/007 | Cost: 0.0615\n",
            "Epoch: 040/050 | Batch 004/007 | Cost: 0.1021\n",
            "Epoch: 040/050 | Batch 006/007 | Cost: 0.2363\n",
            "Time elapsed: 0.03 min\n",
            "Epoch: 041/050 | Batch 000/007 | Cost: 0.1016\n",
            "Epoch: 041/050 | Batch 002/007 | Cost: 0.1358\n",
            "Epoch: 041/050 | Batch 004/007 | Cost: 0.0474\n",
            "Epoch: 041/050 | Batch 006/007 | Cost: 0.2373\n",
            "Time elapsed: 0.03 min\n",
            "Epoch: 042/050 | Batch 000/007 | Cost: 0.1573\n",
            "Epoch: 042/050 | Batch 002/007 | Cost: 0.2072\n",
            "Epoch: 042/050 | Batch 004/007 | Cost: 0.2013\n",
            "Epoch: 042/050 | Batch 006/007 | Cost: 0.1290\n",
            "Time elapsed: 0.03 min\n",
            "Epoch: 043/050 | Batch 000/007 | Cost: 0.1162\n",
            "Epoch: 043/050 | Batch 002/007 | Cost: 0.1578\n",
            "Epoch: 043/050 | Batch 004/007 | Cost: 0.0870\n",
            "Epoch: 043/050 | Batch 006/007 | Cost: 0.1086\n",
            "Time elapsed: 0.03 min\n",
            "Epoch: 044/050 | Batch 000/007 | Cost: 0.1286\n",
            "Epoch: 044/050 | Batch 002/007 | Cost: 0.2130\n",
            "Epoch: 044/050 | Batch 004/007 | Cost: 0.1102\n",
            "Epoch: 044/050 | Batch 006/007 | Cost: 0.0515\n",
            "Time elapsed: 0.03 min\n",
            "Epoch: 045/050 | Batch 000/007 | Cost: 0.2085\n",
            "Epoch: 045/050 | Batch 002/007 | Cost: 0.1039\n",
            "Epoch: 045/050 | Batch 004/007 | Cost: 0.1832\n",
            "Epoch: 045/050 | Batch 006/007 | Cost: 0.0534\n",
            "Time elapsed: 0.03 min\n",
            "Epoch: 046/050 | Batch 000/007 | Cost: 0.1672\n",
            "Epoch: 046/050 | Batch 002/007 | Cost: 0.1602\n",
            "Epoch: 046/050 | Batch 004/007 | Cost: 0.1087\n",
            "Epoch: 046/050 | Batch 006/007 | Cost: 0.0644\n",
            "Time elapsed: 0.03 min\n",
            "Epoch: 047/050 | Batch 000/007 | Cost: 0.1182\n",
            "Epoch: 047/050 | Batch 002/007 | Cost: 0.1316\n",
            "Epoch: 047/050 | Batch 004/007 | Cost: 0.1220\n",
            "Epoch: 047/050 | Batch 006/007 | Cost: 0.1608\n",
            "Time elapsed: 0.03 min\n",
            "Epoch: 048/050 | Batch 000/007 | Cost: 0.2466\n",
            "Epoch: 048/050 | Batch 002/007 | Cost: 0.1611\n",
            "Epoch: 048/050 | Batch 004/007 | Cost: 0.0987\n",
            "Epoch: 048/050 | Batch 006/007 | Cost: 0.1276\n",
            "Time elapsed: 0.03 min\n",
            "Epoch: 049/050 | Batch 000/007 | Cost: 0.0439\n",
            "Epoch: 049/050 | Batch 002/007 | Cost: 0.0783\n",
            "Epoch: 049/050 | Batch 004/007 | Cost: 0.1614\n",
            "Epoch: 049/050 | Batch 006/007 | Cost: 0.1589\n",
            "Time elapsed: 0.03 min\n",
            "Epoch: 050/050 | Batch 000/007 | Cost: 0.2128\n",
            "Epoch: 050/050 | Batch 002/007 | Cost: 0.2103\n",
            "Epoch: 050/050 | Batch 004/007 | Cost: 0.1179\n",
            "Epoch: 050/050 | Batch 006/007 | Cost: 0.2298\n",
            "Time elapsed: 0.03 min\n",
            "Total Training Time: 0.03 min\n"
          ],
          "name": "stdout"
        }
      ]
    },
    {
      "cell_type": "markdown",
      "metadata": {
        "id": "4_fp-js6ij5x"
      },
      "source": [
        "### Detecting anomalies\n",
        "Anomalies is detected by comparing input and output and determine those with mean absolute error that is higher than threshold.\n",
        "\n",
        "If the MEA loss is greater than  threshold value then it can be infer that the model is seeing a pattern that it isn't familiar with which is a potential anomaly. In this case, we used maximum error from training set."
      ]
    },
    {
      "cell_type": "code",
      "metadata": {
        "id": "F6lzjYTrij5x"
      },
      "source": [
        "x_train_pred = model(X_train)\n",
        "x_train_pred = x_train_pred.detach().cpu().numpy() "
      ],
      "execution_count": 54,
      "outputs": []
    },
    {
      "cell_type": "code",
      "metadata": {
        "id": "zawGDzANij50",
        "outputId": "fb176a19-8762-44e5-b1b4-33bfc5368257",
        "colab": {
          "base_uri": "https://localhost:8080/",
          "height": 296
        }
      },
      "source": [
        "train_mae_loss = np.mean(np.abs(x_train_pred - train), axis=1)\n",
        "\n",
        "plt.hist(train_mae_loss, bins=50)\n",
        "plt.xlabel(\"Train MAE loss\")\n",
        "plt.ylabel(\"No of samples\")\n",
        "plt.show()\n",
        "\n",
        "# Get reconstruction loss threshold.\n",
        "threshold = np.max(train_mae_loss)\n",
        "print(\"Reconstruction error threshold: \", threshold)"
      ],
      "execution_count": 55,
      "outputs": [
        {
          "output_type": "display_data",
          "data": {
            "image/png": "[encoded data removed]",
            "text/plain": [
              "<Figure size 432x288 with 1 Axes>"
            ]
          },
          "metadata": {
            "tags": [],
            "needs_background": "light"
          }
        },
        {
          "output_type": "stream",
          "text": [
            "Reconstruction error threshold:  1.4561025257864586\n"
          ],
          "name": "stdout"
        }
      ]
    },
    {
      "cell_type": "markdown",
      "metadata": {
        "id": "AA39w4ITij51"
      },
      "source": [
        "We now validate it by looking at test set for index of time that has high MAE."
      ]
    },
    {
      "cell_type": "code",
      "metadata": {
        "id": "D4-Y8zxuij52",
        "outputId": "e6730028-0b22-46d3-8990-557a99d7e9c9",
        "colab": {
          "base_uri": "https://localhost:8080/",
          "height": 313
        }
      },
      "source": [
        "x_test_pred = model(X_test)\n",
        "x_test_pred = x_test_pred.detach().cpu().numpy() \n",
        "test_mae_loss = np.mean(np.abs(x_test_pred - test), axis=1)\n",
        "test_mae_loss = test_mae_loss.reshape((-1))\n",
        "\n",
        "plt.hist(test_mae_loss, bins=50)\n",
        "plt.xlabel(\"test MAE loss\")\n",
        "plt.ylabel(\"No of samples\")\n",
        "plt.show()\n",
        "\n",
        "# Detect all the samples which are anomalies.\n",
        "anomalies = (test_mae_loss > threshold).tolist()\n",
        "index = np.where(anomalies)\n",
        "print(\"Number of anomaly samples: \", np.sum(anomalies))\n",
        "print(\"Indices of anomaly samples: \", np.where(anomalies))"
      ],
      "execution_count": 56,
      "outputs": [
        {
          "output_type": "display_data",
          "data": {
            "image/png": "[encoded data removed]",
            "text/plain": [
              "<Figure size 432x288 with 1 Axes>"
            ]
          },
          "metadata": {
            "tags": [],
            "needs_background": "light"
          }
        },
        {
          "output_type": "stream",
          "text": [
            "Number of anomaly samples:  1\n",
            "Indices of anomaly samples:  (array([127]),)\n"
          ],
          "name": "stdout"
        }
      ]
    },
    {
      "cell_type": "code",
      "metadata": {
        "id": "9vvL-2jXij54"
      },
      "source": [
        "Test_Autoencoder = Autoencoder_Data[1000:]"
      ],
      "execution_count": 57,
      "outputs": []
    },
    {
      "cell_type": "code",
      "metadata": {
        "id": "XGmb92GGij57"
      },
      "source": [
        "anomalous_data_indices = []\n",
        "for data_idx in range(24 - 1, len(Test_Autoencoder) - 24 + 1):\n",
        "    time_series = range(data_idx - 24 + 1, data_idx)\n",
        "    if any([anomalies[j] for j in time_series]):\n",
        "        anomalous_data_indices.append(data_idx)"
      ],
      "execution_count": 58,
      "outputs": []
    },
    {
      "cell_type": "code",
      "metadata": {
        "id": "MCJN34luij59",
        "outputId": "2c5bd0dc-ee8e-46a9-d3fa-52616967d718",
        "colab": {
          "base_uri": "https://localhost:8080/",
          "height": 402
        }
      },
      "source": [
        "Test_Autoencoder"
      ],
      "execution_count": 59,
      "outputs": [
        {
          "output_type": "execute_result",
          "data": {
            "text/html": [
              "<div>\n",
              "<style scoped>\n",
              "    .dataframe tbody tr th:only-of-type {\n",
              "        vertical-align: middle;\n",
              "    }\n",
              "\n",
              "    .dataframe tbody tr th {\n",
              "        vertical-align: top;\n",
              "    }\n",
              "\n",
              "    .dataframe thead th {\n",
              "        text-align: right;\n",
              "    }\n",
              "</style>\n",
              "<table border=\"1\" class=\"dataframe\">\n",
              "  <thead>\n",
              "    <tr style=\"text-align: right;\">\n",
              "      <th></th>\n",
              "      <th>timestamp</th>\n",
              "      <th>key</th>\n",
              "      <th>value</th>\n",
              "      <th>aggregate</th>\n",
              "      <th>total</th>\n",
              "      <th>outlier</th>\n",
              "    </tr>\n",
              "  </thead>\n",
              "  <tbody>\n",
              "    <tr>\n",
              "      <th>1000</th>\n",
              "      <td>2015-04-09 15:00:00</td>\n",
              "      <td>AAPL</td>\n",
              "      <td>670</td>\n",
              "      <td>987945</td>\n",
              "      <td>2568</td>\n",
              "      <td>0.0</td>\n",
              "    </tr>\n",
              "    <tr>\n",
              "      <th>1001</th>\n",
              "      <td>2015-04-09 16:00:00</td>\n",
              "      <td>AAPL</td>\n",
              "      <td>1044</td>\n",
              "      <td>988989</td>\n",
              "      <td>3154</td>\n",
              "      <td>0.0</td>\n",
              "    </tr>\n",
              "    <tr>\n",
              "      <th>1002</th>\n",
              "      <td>2015-04-09 17:00:00</td>\n",
              "      <td>AAPL</td>\n",
              "      <td>1099</td>\n",
              "      <td>990088</td>\n",
              "      <td>3059</td>\n",
              "      <td>0.0</td>\n",
              "    </tr>\n",
              "    <tr>\n",
              "      <th>1003</th>\n",
              "      <td>2015-04-09 18:00:00</td>\n",
              "      <td>AAPL</td>\n",
              "      <td>822</td>\n",
              "      <td>990910</td>\n",
              "      <td>3382</td>\n",
              "      <td>0.0</td>\n",
              "    </tr>\n",
              "    <tr>\n",
              "      <th>1004</th>\n",
              "      <td>2015-04-09 19:00:00</td>\n",
              "      <td>AAPL</td>\n",
              "      <td>943</td>\n",
              "      <td>991853</td>\n",
              "      <td>3105</td>\n",
              "      <td>0.0</td>\n",
              "    </tr>\n",
              "    <tr>\n",
              "      <th>...</th>\n",
              "      <td>...</td>\n",
              "      <td>...</td>\n",
              "      <td>...</td>\n",
              "      <td>...</td>\n",
              "      <td>...</td>\n",
              "      <td>...</td>\n",
              "    </tr>\n",
              "    <tr>\n",
              "      <th>1319</th>\n",
              "      <td>2015-04-22 22:00:00</td>\n",
              "      <td>AAPL</td>\n",
              "      <td>843</td>\n",
              "      <td>1357903</td>\n",
              "      <td>1093</td>\n",
              "      <td>0.0</td>\n",
              "    </tr>\n",
              "    <tr>\n",
              "      <th>1320</th>\n",
              "      <td>2015-04-22 23:00:00</td>\n",
              "      <td>AAPL</td>\n",
              "      <td>670</td>\n",
              "      <td>1358573</td>\n",
              "      <td>777</td>\n",
              "      <td>0.0</td>\n",
              "    </tr>\n",
              "    <tr>\n",
              "      <th>1321</th>\n",
              "      <td>2015-04-23 00:00:00</td>\n",
              "      <td>AAPL</td>\n",
              "      <td>718</td>\n",
              "      <td>1359291</td>\n",
              "      <td>793</td>\n",
              "      <td>0.0</td>\n",
              "    </tr>\n",
              "    <tr>\n",
              "      <th>1322</th>\n",
              "      <td>2015-04-23 01:00:00</td>\n",
              "      <td>AAPL</td>\n",
              "      <td>717</td>\n",
              "      <td>1360008</td>\n",
              "      <td>790</td>\n",
              "      <td>0.0</td>\n",
              "    </tr>\n",
              "    <tr>\n",
              "      <th>1323</th>\n",
              "      <td>2015-04-23 02:00:00</td>\n",
              "      <td>AAPL</td>\n",
              "      <td>445</td>\n",
              "      <td>1360453</td>\n",
              "      <td>482</td>\n",
              "      <td>0.0</td>\n",
              "    </tr>\n",
              "  </tbody>\n",
              "</table>\n",
              "<p>324 rows × 6 columns</p>\n",
              "</div>"
            ],
            "text/plain": [
              "               timestamp   key  value  aggregate  total  outlier\n",
              "1000 2015-04-09 15:00:00  AAPL    670     987945   2568      0.0\n",
              "1001 2015-04-09 16:00:00  AAPL   1044     988989   3154      0.0\n",
              "1002 2015-04-09 17:00:00  AAPL   1099     990088   3059      0.0\n",
              "1003 2015-04-09 18:00:00  AAPL    822     990910   3382      0.0\n",
              "1004 2015-04-09 19:00:00  AAPL    943     991853   3105      0.0\n",
              "...                  ...   ...    ...        ...    ...      ...\n",
              "1319 2015-04-22 22:00:00  AAPL    843    1357903   1093      0.0\n",
              "1320 2015-04-22 23:00:00  AAPL    670    1358573    777      0.0\n",
              "1321 2015-04-23 00:00:00  AAPL    718    1359291    793      0.0\n",
              "1322 2015-04-23 01:00:00  AAPL    717    1360008    790      0.0\n",
              "1323 2015-04-23 02:00:00  AAPL    445    1360453    482      0.0\n",
              "\n",
              "[324 rows x 6 columns]"
            ]
          },
          "metadata": {
            "tags": []
          },
          "execution_count": 59
        }
      ]
    },
    {
      "cell_type": "code",
      "metadata": {
        "id": "PXdTeUWyij5-",
        "outputId": "95838e1b-6aa7-4013-c9d4-892afea467ad",
        "colab": {
          "base_uri": "https://localhost:8080/",
          "height": 254
        }
      },
      "source": [
        "df_subset = Test_Autoencoder.iloc[anomalous_data_indices, :]\n",
        "plt.subplots_adjust(bottom=0.2)\n",
        "plt.xticks(rotation=25)\n",
        "ax = plt.gca()\n",
        "\n",
        "values = pd.Series(Test_Autoencoder[\"value\"])\n",
        "plt.plot(values, label=\"test data\")\n",
        "values = pd.Series(df_subset[\"value\"])\n",
        "plt.plot(values, label=\"anomalies\", color=\"r\")\n",
        "\n",
        "plt.legend()\n",
        "plt.show()"
      ],
      "execution_count": 60,
      "outputs": [
        {
          "output_type": "display_data",
          "data": {
            "image/png": "[encoded data removed]",
            "text/plain": [
              "<Figure size 432x288 with 1 Axes>"
            ]
          },
          "metadata": {
            "tags": [],
            "needs_background": "light"
          }
        }
      ]
    }
  ]
}